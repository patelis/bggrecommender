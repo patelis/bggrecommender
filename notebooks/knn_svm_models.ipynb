{
 "cells": [
  {
   "cell_type": "code",
   "execution_count": 1,
   "metadata": {},
   "outputs": [],
   "source": [
    "import numpy as np\n",
    "import pandas as pd"
   ]
  },
  {
   "cell_type": "code",
   "execution_count": 34,
   "metadata": {},
   "outputs": [],
   "source": [
    "df = pd.read_csv(\"data/bgg_gamelist_cleaned.csv\")\n",
    "df = df.query('~description.isnull()')\n",
    "ids = df[\"id\"]\n",
    "names = df[\"name\"]\n",
    "embeddings = np.load(\"data/embeddings.npz\")[\"embeddings\"]"
   ]
  },
  {
   "cell_type": "code",
   "execution_count": 36,
   "metadata": {},
   "outputs": [],
   "source": [
    "embeddings = embeddings / np.sqrt((embeddings**2).sum(1, keepdims=True)) # L2 normalize the rows, as is common, in this case the embeddings we obtained from instructor-xl were already normalized."
   ]
  },
  {
   "cell_type": "code",
   "execution_count": 35,
   "metadata": {},
   "outputs": [
    {
     "data": {
      "text/plain": [
       "array([[1.       ],\n",
       "       [1.       ],\n",
       "       [1.       ],\n",
       "       ...,\n",
       "       [1.       ],\n",
       "       [1.0000001],\n",
       "       [1.       ]], dtype=float32)"
      ]
     },
     "execution_count": 35,
     "metadata": {},
     "output_type": "execute_result"
    }
   ],
   "source": [
    "np.sqrt((embeddings**2).sum(1, keepdims=True))"
   ]
  },
  {
   "cell_type": "code",
   "execution_count": 37,
   "metadata": {},
   "outputs": [
    {
     "data": {
      "text/plain": [
       "(24610, 768)"
      ]
     },
     "execution_count": 37,
     "metadata": {},
     "output_type": "execute_result"
    }
   ],
   "source": [
    "embeddings.shape"
   ]
  },
  {
   "cell_type": "code",
   "execution_count": 38,
   "metadata": {},
   "outputs": [
    {
     "data": {
      "text/plain": [
       "(768,)"
      ]
     },
     "execution_count": 38,
     "metadata": {},
     "output_type": "execute_result"
    }
   ],
   "source": [
    "query = embeddings[12] # Use Samurai as an example\n",
    "#query = embeddings[ids == 6707].squeeze()\n",
    "query.shape"
   ]
  },
  {
   "cell_type": "code",
   "execution_count": 39,
   "metadata": {},
   "outputs": [
    {
     "name": "stdout",
     "output_type": "stream",
     "text": [
      "top 10 results:\n",
      "row 12965, similarity 0.9119023084640503\n",
      "row 238, similarity 0.9105767011642456\n",
      "row 3872, similarity 0.9104617834091187\n",
      "row 4378, similarity 0.9054649472236633\n",
      "row 11232, similarity 0.9050711393356323\n",
      "row 15102, similarity 0.9046278595924377\n",
      "row 24473, similarity 0.904604971408844\n",
      "row 7347, similarity 0.9006145000457764\n",
      "row 18820, similarity 0.8993796110153198\n",
      "row 20314, similarity 0.8980516195297241\n",
      "row 17991, similarity 0.8970128297805786\n",
      "row 23034, similarity 0.8964637517929077\n",
      "row 14698, similarity 0.8959041237831116\n",
      "row 12195, similarity 0.8956476449966431\n",
      "row 2146, similarity 0.8944798707962036\n",
      "row 10456, similarity 0.8909525275230408\n",
      "row 9090, similarity 0.8900841474533081\n",
      "row 3314, similarity 0.8898947238922119\n",
      "row 5635, similarity 0.8897260427474976\n",
      "row 7786, similarity 0.8894286155700684\n"
     ]
    }
   ],
   "source": [
    "similarities = embeddings.dot(query)\n",
    "sorted_ix = np.argsort(-similarities)\n",
    "\n",
    "top_n = []\n",
    "print(\"top 10 results:\")\n",
    "for k in sorted_ix[1:21]:\n",
    "  print(f\"row {k}, similarity {similarities[k]}\")\n",
    "  top_n.append(k)"
   ]
  },
  {
   "cell_type": "code",
   "execution_count": 41,
   "metadata": {},
   "outputs": [
    {
     "data": {
      "text/plain": [
       "[146158,\n",
       " 278,\n",
       " 6778,\n",
       " 8166,\n",
       " 107529,\n",
       " 178958,\n",
       " 370597,\n",
       " 24083,\n",
       " 244330,\n",
       " 269504,\n",
       " 230266,\n",
       " 329588,\n",
       " 172980,\n",
       " 131366,\n",
       " 3076,\n",
       " 84876,\n",
       " 40370,\n",
       " 5406,\n",
       " 12681,\n",
       " 27710]"
      ]
     },
     "execution_count": 41,
     "metadata": {},
     "output_type": "execute_result"
    }
   ],
   "source": [
    "list(ids[top_n])"
   ]
  },
  {
   "cell_type": "code",
   "execution_count": 40,
   "metadata": {},
   "outputs": [
    {
     "data": {
      "text/plain": [
       "['New Haven',\n",
       " 'Catan Card Game',\n",
       " 'The Settlers of Zarahemla',\n",
       " 'Anno 1503',\n",
       " 'Kingdom Builder',\n",
       " 'The Lords of Rock',\n",
       " 'Fugitive (Second Edition)',\n",
       " 'Desert Bazaar',\n",
       " 'Scarabya',\n",
       " 'Two Robots',\n",
       " 'Scare It!',\n",
       " 'Chili Mafia',\n",
       " 'Double Mission: Beyond the Object',\n",
       " 'Eight-Minute Empire',\n",
       " 'Puerto Rico',\n",
       " 'The Castles of Burgundy',\n",
       " 'Islas Canarias',\n",
       " 'New England',\n",
       " 'Neuland',\n",
       " 'Catan Dice Game']"
      ]
     },
     "execution_count": 40,
     "metadata": {},
     "output_type": "execute_result"
    }
   ],
   "source": [
    "list(names[top_n])"
   ]
  },
  {
   "attachments": {},
   "cell_type": "markdown",
   "metadata": {},
   "source": [
    "### SVM"
   ]
  },
  {
   "cell_type": "code",
   "execution_count": 25,
   "metadata": {},
   "outputs": [
    {
     "name": "stdout",
     "output_type": "stream",
     "text": [
      "top 10 results:\n",
      "row 12, similarity 0.9921468167791094\n",
      "row 8366, similarity -0.12454733979373334\n",
      "row 13044, similarity -0.1461113224984164\n",
      "row 24473, similarity -0.26539029629990896\n",
      "row 2631, similarity -0.2879438038187119\n",
      "row 3872, similarity -0.33209068221639226\n",
      "row 9090, similarity -0.3336816009576016\n",
      "row 7794, similarity -0.35497497511054843\n",
      "row 11512, similarity -0.3564880611509442\n",
      "row 3314, similarity -0.35709652488835575\n",
      "row 7621, similarity -0.36093129794186907\n",
      "row 14698, similarity -0.3737815749459906\n",
      "row 5484, similarity -0.38100333590007396\n",
      "row 7347, similarity -0.3843897128584447\n",
      "row 4378, similarity -0.3884725555314986\n",
      "row 8215, similarity -0.39367582995252925\n",
      "row 15102, similarity -0.4060399605143724\n",
      "row 431, similarity -0.4129465274048697\n",
      "row 8623, similarity -0.41682610715728974\n",
      "row 17991, similarity -0.4249049463034168\n",
      "row 238, similarity -0.42708153121136794\n",
      "row 20314, similarity -0.4321367208203536\n",
      "row 20801, similarity -0.43922777554315984\n",
      "row 7404, similarity -0.44063649641522185\n",
      "row 7786, similarity -0.4416738738950473\n",
      "row 7406, similarity -0.44240304008751385\n",
      "row 12965, similarity -0.4440869688826483\n",
      "row 11746, similarity -0.44468934175528274\n",
      "row 7798, similarity -0.4493635456263767\n",
      "row 4889, similarity -0.45205038878908055\n",
      "row 1187, similarity -0.45354154601182384\n",
      "row 15294, similarity -0.4538151113990523\n",
      "row 8248, similarity -0.4576971749929729\n",
      "row 18820, similarity -0.4629870305143631\n",
      "row 20765, similarity -0.4682242281483764\n",
      "row 11232, similarity -0.4743551077794417\n",
      "row 13934, similarity -0.4859948740147151\n",
      "row 2146, similarity -0.4892484959178348\n",
      "row 13858, similarity -0.4953691385046768\n",
      "row 19904, similarity -0.49730805349148177\n",
      "row 16119, similarity -0.500843263050897\n",
      "row 11732, similarity -0.5031030262656326\n",
      "row 22010, similarity -0.5078928503892383\n",
      "row 2176, similarity -0.5085039765755079\n",
      "row 2479, similarity -0.5125999035546602\n",
      "row 3503, similarity -0.5196556758730962\n",
      "row 12977, similarity -0.5213454550176635\n",
      "row 11246, similarity -0.5275065218607234\n",
      "row 13843, similarity -0.5285128470347851\n",
      "row 177, similarity -0.5316917738714351\n",
      "row 705, similarity -0.5327870872305803\n",
      "row 24520, similarity -0.5335817740712763\n",
      "row 18792, similarity -0.5350279740877444\n",
      "row 23034, similarity -0.5375121212321886\n",
      "row 711, similarity -0.5428720548811162\n",
      "row 23074, similarity -0.5430923222416262\n",
      "row 11815, similarity -0.5565920014013691\n",
      "row 9601, similarity -0.565373591858648\n",
      "row 18253, similarity -0.565473079525885\n",
      "row 13833, similarity -0.5656242289943809\n",
      "row 17756, similarity -0.565858912421687\n",
      "row 7440, similarity -0.569606999467775\n",
      "row 11909, similarity -0.571655719099641\n",
      "row 15676, similarity -0.5763067456805995\n",
      "row 12049, similarity -0.5780315167641024\n",
      "row 8929, similarity -0.5798029312894837\n",
      "row 22274, similarity -0.580760793291911\n",
      "row 3319, similarity -0.5809314685879052\n",
      "row 1765, similarity -0.5818198130050356\n",
      "row 13459, similarity -0.5824558436097635\n",
      "row 16835, similarity -0.5841191186268175\n",
      "row 10000, similarity -0.584529034046722\n",
      "row 4814, similarity -0.5877008357885136\n",
      "row 9819, similarity -0.5919415798462596\n",
      "row 10456, similarity -0.5935886383279353\n",
      "row 23738, similarity -0.5940565204194177\n",
      "row 9827, similarity -0.5987056688725465\n",
      "row 3758, similarity -0.5999047927323217\n",
      "row 19344, similarity -0.6034987703091487\n",
      "row 23451, similarity -0.614839994628134\n",
      "row 16300, similarity -0.6156264511163094\n",
      "row 4374, similarity -0.6179988896717828\n",
      "row 16800, similarity -0.6180077380174196\n",
      "row 23277, similarity -0.6195297455586051\n",
      "row 15973, similarity -0.622168933067687\n",
      "row 11565, similarity -0.6245867580616841\n",
      "row 2078, similarity -0.62561286364592\n",
      "row 7719, similarity -0.6307203598043376\n",
      "row 12043, similarity -0.6313286562056778\n",
      "row 23083, similarity -0.6327533503241729\n",
      "row 14811, similarity -0.6343114047830318\n",
      "row 19692, similarity -0.634839132568654\n",
      "row 11929, similarity -0.6373193130693\n",
      "row 9102, similarity -0.6390155417415413\n",
      "row 8060, similarity -0.6434879048570255\n",
      "row 13466, similarity -0.6441918065493093\n",
      "row 6775, similarity -0.6445332317560011\n",
      "row 11206, similarity -0.6489853688883126\n",
      "row 8913, similarity -0.6498527162156557\n",
      "row 20895, similarity -0.6498772195688796\n"
     ]
    }
   ],
   "source": [
    "from sklearn import svm\n",
    "\n",
    "# create the \"Dataset\"\n",
    "x = embeddings\n",
    "y = np.zeros(x.shape[0])\n",
    "#x = np.concatenate([query[None,...], embeddings]) # x is (1001, 1536) array, with query now as the first row\n",
    "#y = np.zeros(1001)\n",
    "#y[12] = 1 # we have a single positive example, mark it as such\n",
    "y[ids == 13] = 1\n",
    "\n",
    "# train our (Exemplar) SVM\n",
    "# docs: https://scikit-learn.org/stable/modules/generated/sklearn.svm.LinearSVC.html\n",
    "clf = svm.LinearSVC(class_weight='balanced', verbose=False, max_iter=10000, tol=1e-6, C=0.1)\n",
    "clf.fit(x, y) # train\n",
    "\n",
    "# infer on whatever data you wish, e.g. the original data\n",
    "similarities = clf.decision_function(x)\n",
    "sorted_ix = np.argsort(-similarities)\n",
    "top_n = []\n",
    "print(\"top 10 results:\")\n",
    "for k in sorted_ix[:100]:\n",
    "  print(f\"row {k}, similarity {similarities[k]}\")\n",
    "  top_n.append(k)"
   ]
  },
  {
   "cell_type": "code",
   "execution_count": 32,
   "metadata": {},
   "outputs": [
    {
     "data": {
      "text/plain": [
       "7621                              Claim It!\n",
       "14698     Double Mission: Beyond the Object\n",
       "5484           Candamir: The First Settlers\n",
       "7347                          Desert Bazaar\n",
       "4378                              Anno 1503\n",
       "                        ...                \n",
       "13466                     Imperial Settlers\n",
       "6775                             Terra Nova\n",
       "11206                                Hawaii\n",
       "8913     Settlers of Catan: Gallery Edition\n",
       "20895                      Pappy Winchester\n",
       "Name: name, Length: 90, dtype: object"
      ]
     },
     "execution_count": 32,
     "metadata": {},
     "output_type": "execute_result"
    }
   ],
   "source": [
    "names[top_n[10:]]"
   ]
  }
 ],
 "metadata": {
  "kernelspec": {
   "display_name": "bggrecommender",
   "language": "python",
   "name": "python3"
  },
  "language_info": {
   "codemirror_mode": {
    "name": "ipython",
    "version": 3
   },
   "file_extension": ".py",
   "mimetype": "text/x-python",
   "name": "python",
   "nbconvert_exporter": "python",
   "pygments_lexer": "ipython3",
   "version": "3.10.10"
  },
  "orig_nbformat": 4
 },
 "nbformat": 4,
 "nbformat_minor": 2
}
