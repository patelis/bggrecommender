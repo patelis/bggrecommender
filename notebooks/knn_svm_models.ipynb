{
 "cells": [
  {
   "cell_type": "code",
   "execution_count": 1,
   "metadata": {},
   "outputs": [],
   "source": [
    "import numpy as np\n",
    "import pandas as pd"
   ]
  },
  {
   "cell_type": "code",
   "execution_count": 47,
   "metadata": {},
   "outputs": [],
   "source": [
    "df = pd.read_csv(\"data/bgg_gamelist_cleaned.csv\")\n",
    "df = df.query('~description.isnull()')\n",
    "ids = df[\"id\"]\n",
    "names = df[\"name\"]\n",
    "embeddings = np.load(\"data/embeddings.npz\")[\"embeddings\"]"
   ]
  },
  {
   "cell_type": "code",
   "execution_count": 52,
   "metadata": {},
   "outputs": [],
   "source": [
    "embeddings = embeddings / np.sqrt((embeddings**2).sum(1, keepdims=True)) # L2 normalize the rows, as is common, in this case the embeddings we obtained from instructor-xl were already normalized."
   ]
  },
  {
   "cell_type": "code",
   "execution_count": 53,
   "metadata": {},
   "outputs": [
    {
     "data": {
      "text/plain": [
       "array([[1.],\n",
       "       [1.],\n",
       "       [1.],\n",
       "       ...,\n",
       "       [1.],\n",
       "       [1.],\n",
       "       [1.]], dtype=float32)"
      ]
     },
     "execution_count": 53,
     "metadata": {},
     "output_type": "execute_result"
    }
   ],
   "source": [
    "np.sqrt((embeddings**2).sum(1, keepdims=True))"
   ]
  },
  {
   "cell_type": "code",
   "execution_count": 54,
   "metadata": {},
   "outputs": [
    {
     "data": {
      "text/plain": [
       "(24610, 768)"
      ]
     },
     "execution_count": 54,
     "metadata": {},
     "output_type": "execute_result"
    }
   ],
   "source": [
    "embeddings.shape"
   ]
  },
  {
   "cell_type": "code",
   "execution_count": 59,
   "metadata": {},
   "outputs": [
    {
     "data": {
      "text/plain": [
       "(768,)"
      ]
     },
     "execution_count": 59,
     "metadata": {},
     "output_type": "execute_result"
    }
   ],
   "source": [
    "query = embeddings[2] # Use Samurai as an example\n",
    "#query = embeddings[ids == 6707].squeeze()\n",
    "query.shape"
   ]
  },
  {
   "cell_type": "code",
   "execution_count": 60,
   "metadata": {},
   "outputs": [
    {
     "name": "stdout",
     "output_type": "stream",
     "text": [
      "top 10 results:\n",
      "row 20176, similarity 0.8918618559837341\n",
      "row 21065, similarity 0.8870534896850586\n",
      "row 8896, similarity 0.8848761320114136\n",
      "row 9908, similarity 0.8840431571006775\n",
      "row 13796, similarity 0.8794407844543457\n",
      "row 20169, similarity 0.8769826889038086\n",
      "row 15232, similarity 0.8763738870620728\n",
      "row 16751, similarity 0.8746436238288879\n",
      "row 15876, similarity 0.873382031917572\n",
      "row 11902, similarity 0.8709729909896851\n",
      "row 7314, similarity 0.8709137439727783\n",
      "row 13584, similarity 0.8707891702651978\n",
      "row 39, similarity 0.8701850175857544\n",
      "row 22313, similarity 0.870140552520752\n",
      "row 8756, similarity 0.8685733079910278\n",
      "row 11418, similarity 0.868300199508667\n",
      "row 59, similarity 0.8682471513748169\n",
      "row 20785, similarity 0.8680010437965393\n",
      "row 8686, similarity 0.8678731918334961\n",
      "row 21236, similarity 0.8675068616867065\n"
     ]
    }
   ],
   "source": [
    "similarities = embeddings.dot(query)\n",
    "sorted_ix = np.argsort(-similarities)\n",
    "\n",
    "top_n = []\n",
    "print(\"top 10 results:\")\n",
    "for k in sorted_ix[1:21]:\n",
    "  print(f\"row {k}, similarity {similarities[k]}\")\n",
    "  top_n.append(k)"
   ]
  },
  {
   "cell_type": "code",
   "execution_count": 57,
   "metadata": {},
   "outputs": [
    {
     "data": {
      "text/plain": [
       "[146158,\n",
       " 278,\n",
       " 6778,\n",
       " 8166,\n",
       " 107529,\n",
       " 178984,\n",
       " 370649,\n",
       " 24083,\n",
       " 244331,\n",
       " 269511,\n",
       " 230267,\n",
       " 329593,\n",
       " 172994,\n",
       " 131366,\n",
       " 3076,\n",
       " 84876,\n",
       " 40370,\n",
       " 5406,\n",
       " 12681,\n",
       " 27710]"
      ]
     },
     "execution_count": 57,
     "metadata": {},
     "output_type": "execute_result"
    }
   ],
   "source": [
    "list(ids[top_n])"
   ]
  },
  {
   "cell_type": "code",
   "execution_count": 61,
   "metadata": {},
   "outputs": [
    {
     "data": {
      "text/plain": [
       "['Jinja',\n",
       " 'Small Samurai Empires',\n",
       " 'Bushido: Der Weg des Kriegers',\n",
       " 'Seven Card Samurai',\n",
       " 'Kaleido',\n",
       " 'TacTiki',\n",
       " 'Joraku',\n",
       " 'Rising Sun',\n",
       " 'Martial Art',\n",
       " 'Seven Swords',\n",
       " 'Oshi',\n",
       " 'Age of War',\n",
       " 'Tigris & Euphrates',\n",
       " 'Make Make',\n",
       " 'Seii Taishogun',\n",
       " 'Edo',\n",
       " 'Samurai: Game of Politics and Warfare in Feudal Japan',\n",
       " 'Harakiri: Blades of Honor',\n",
       " 'Rice Wars',\n",
       " 'Tajuto']"
      ]
     },
     "execution_count": 61,
     "metadata": {},
     "output_type": "execute_result"
    }
   ],
   "source": [
    "list(names[top_n])"
   ]
  },
  {
   "attachments": {},
   "cell_type": "markdown",
   "metadata": {},
   "source": [
    "### SVM"
   ]
  },
  {
   "cell_type": "code",
   "execution_count": 62,
   "metadata": {},
   "outputs": [
    {
     "name": "stdout",
     "output_type": "stream",
     "text": [
      "top 10 results:\n",
      "row 2, similarity 0.9936124985445265\n",
      "row 9502, similarity -0.32443506625691154\n",
      "row 20696, similarity -0.3386445503357365\n",
      "row 21236, similarity -0.4154693141723109\n",
      "row 10135, similarity -0.4185579787387178\n",
      "row 8352, similarity -0.44136167959357664\n",
      "row 22453, similarity -0.46153434744901234\n",
      "row 1913, similarity -0.4620022978538547\n",
      "row 8756, similarity -0.47208237272862363\n",
      "row 9908, similarity -0.47240341859356305\n",
      "row 8364, similarity -0.4813598180769806\n",
      "row 10507, similarity -0.48663675596958966\n",
      "row 21873, similarity -0.4929671261679248\n",
      "row 18895, similarity -0.49493684864833987\n",
      "row 20176, similarity -0.49878394852262975\n",
      "row 4907, similarity -0.5048031206639167\n",
      "row 18282, similarity -0.5076105679846947\n",
      "row 17406, similarity -0.5101065949531415\n",
      "row 18275, similarity -0.5187516159150984\n",
      "row 21065, similarity -0.519561338050269\n",
      "row 13192, similarity -0.5242041669607571\n",
      "row 19197, similarity -0.5280147100309718\n",
      "row 8896, similarity -0.5346411799258728\n",
      "row 15733, similarity -0.5365091428536445\n",
      "row 4797, similarity -0.5476128694153806\n",
      "row 422, similarity -0.5513070333774338\n",
      "row 695, similarity -0.5594005967187125\n",
      "row 15876, similarity -0.5609336640236319\n",
      "row 5315, similarity -0.5623769102636724\n",
      "row 15232, similarity -0.565207562641439\n",
      "row 2134, similarity -0.5693086365904498\n",
      "row 10121, similarity -0.5705163948040783\n",
      "row 9025, similarity -0.5708739609628688\n",
      "row 22313, similarity -0.5726160726111724\n",
      "row 14931, similarity -0.5726549286099208\n",
      "row 7376, similarity -0.5742668168606744\n",
      "row 19012, similarity -0.5799989619001471\n",
      "row 20358, similarity -0.5814594148505032\n",
      "row 10073, similarity -0.5825847651416363\n",
      "row 474, similarity -0.5853768407967147\n",
      "row 16751, similarity -0.5856079985431577\n",
      "row 19470, similarity -0.5904642440851826\n",
      "row 1837, similarity -0.5978961867394386\n",
      "row 18155, similarity -0.6031027277549428\n",
      "row 8488, similarity -0.6054454768263923\n",
      "row 23835, similarity -0.608174618732222\n",
      "row 13516, similarity -0.6131803332064177\n",
      "row 23305, similarity -0.6134765287995394\n",
      "row 7009, similarity -0.6142783434359713\n",
      "row 17155, similarity -0.6161758450932182\n",
      "row 8686, similarity -0.6176076767252616\n",
      "row 3780, similarity -0.6181272311307068\n",
      "row 24232, similarity -0.6185121337798652\n",
      "row 15633, similarity -0.6189606047077207\n",
      "row 14242, similarity -0.6195926289695772\n",
      "row 7314, similarity -0.6207289048003004\n",
      "row 11954, similarity -0.6219824421051623\n",
      "row 8891, similarity -0.6234533986232839\n",
      "row 7194, similarity -0.6264262080405689\n",
      "row 383, similarity -0.6300911418452995\n",
      "row 24325, similarity -0.6369250437182902\n",
      "row 19718, similarity -0.6394507985657268\n",
      "row 14784, similarity -0.6436713632424755\n",
      "row 18597, similarity -0.6444989462916085\n",
      "row 3857, similarity -0.6454879642564709\n",
      "row 10198, similarity -0.6455697986856537\n",
      "row 191, similarity -0.6478710487810451\n",
      "row 19582, similarity -0.6484732553130754\n",
      "row 9593, similarity -0.6511873135506644\n",
      "row 15318, similarity -0.6534291790956883\n",
      "row 184, similarity -0.6536163284160412\n",
      "row 6852, similarity -0.6544978362006213\n",
      "row 10127, similarity -0.6571692345804494\n",
      "row 18268, similarity -0.6581455104323317\n",
      "row 14405, similarity -0.6593791885270751\n",
      "row 11902, similarity -0.6599904797736751\n",
      "row 11827, similarity -0.6609208542514453\n",
      "row 20606, similarity -0.6617839428424421\n",
      "row 15429, similarity -0.66229670576927\n",
      "row 18477, similarity -0.6634339886709345\n",
      "row 21235, similarity -0.6683306527687386\n",
      "row 14072, similarity -0.6693214328582867\n",
      "row 13796, similarity -0.6715434261109898\n",
      "row 14063, similarity -0.6744503530660138\n",
      "row 16206, similarity -0.6784381126208582\n",
      "row 14053, similarity -0.67916725709559\n",
      "row 7558, similarity -0.6797508982836589\n",
      "row 18058, similarity -0.6805857128302465\n",
      "row 19738, similarity -0.6809865390299987\n",
      "row 8228, similarity -0.6814269750019006\n",
      "row 24496, similarity -0.686286709958289\n",
      "row 21273, similarity -0.687706155534952\n",
      "row 18805, similarity -0.6889990644149249\n",
      "row 9751, similarity -0.6899527668063368\n",
      "row 59, similarity -0.692359842703409\n",
      "row 22601, similarity -0.6953049554672938\n",
      "row 1312, similarity -0.6964560321797718\n",
      "row 508, similarity -0.696870139094029\n",
      "row 24571, similarity -0.6971349999088002\n",
      "row 20040, similarity -0.6972421316415326\n"
     ]
    }
   ],
   "source": [
    "from sklearn import svm\n",
    "\n",
    "# create the \"Dataset\"\n",
    "x = embeddings\n",
    "y = np.zeros(x.shape[0])\n",
    "#x = np.concatenate([query[None,...], embeddings]) # x is (1001, 1536) array, with query now as the first row\n",
    "#y = np.zeros(1001)\n",
    "#y[12] = 1 # we have a single positive example, mark it as such\n",
    "y[ids == 3] = 1\n",
    "\n",
    "# train our (Exemplar) SVM\n",
    "# docs: https://scikit-learn.org/stable/modules/generated/sklearn.svm.LinearSVC.html\n",
    "clf = svm.LinearSVC(class_weight='balanced', verbose=False, max_iter=10000, tol=1e-6, C=0.1)\n",
    "clf.fit(x, y) # train\n",
    "\n",
    "# infer on whatever data you wish, e.g. the original data\n",
    "similarities = clf.decision_function(x)\n",
    "sorted_ix = np.argsort(-similarities)\n",
    "top_n = []\n",
    "print(\"top 10 results:\")\n",
    "for k in sorted_ix[:100]:\n",
    "  print(f\"row {k}, similarity {similarities[k]}\")\n",
    "  top_n.append(k)"
   ]
  },
  {
   "cell_type": "code",
   "execution_count": 64,
   "metadata": {},
   "outputs": [
    {
     "data": {
      "text/plain": [
       "['Ninjato',\n",
       " 'Sencha',\n",
       " 'Tajuto',\n",
       " 'Takenoko',\n",
       " 'Senji',\n",
       " 'Night Parade of a Hundred Yokai',\n",
       " \"James Clavell's Shogun\",\n",
       " 'Seii Taishogun',\n",
       " 'Seven Card Samurai',\n",
       " 'Monastery',\n",
       " 'Kaiten Sushi',\n",
       " 'Jubako',\n",
       " 'The Way of the Bear',\n",
       " 'Jinja',\n",
       " 'Oriente',\n",
       " 'Dôjima',\n",
       " 'TA‐KE',\n",
       " 'Niwa',\n",
       " 'Small Samurai Empires',\n",
       " 'Spirits of the Rice Paddy',\n",
       " 'Shikoku',\n",
       " 'Bushido: Der Weg des Kriegers',\n",
       " '曼荼羅 (Mandara)',\n",
       " 'Daimyo',\n",
       " 'Web of Power',\n",
       " 'Java',\n",
       " 'Martial Art',\n",
       " 'Samurai',\n",
       " 'Joraku',\n",
       " 'Samurai',\n",
       " 'The major four of Heizei',\n",
       " 'Machi',\n",
       " 'Make Make',\n",
       " 'Fan & Mallet (団扇と小槌)',\n",
       " 'Hatu Matu: Chief of Easter Island',\n",
       " 'Rice Dice',\n",
       " 'Gorinto',\n",
       " 'Toledo 1085',\n",
       " 'Der weiße Lotus',\n",
       " 'Rising Sun',\n",
       " 'Ninja Squad',\n",
       " 'Samurai & Katana',\n",
       " 'Kami-sama',\n",
       " 'Bluff',\n",
       " 'Bamboo',\n",
       " 'Nippon',\n",
       " 'Brian Boru: High King of Ireland',\n",
       " 'Fiji',\n",
       " 'Tenkatoitsu',\n",
       " 'Rice Wars',\n",
       " 'Cronberg',\n",
       " 'Tokaido Duo',\n",
       " 'Far East War 1592',\n",
       " 'Matcha',\n",
       " 'Oshi',\n",
       " 'Qin',\n",
       " 'Tenka',\n",
       " 'Justinian',\n",
       " 'Die Osterinsel',\n",
       " 'Deities',\n",
       " 'Majolica',\n",
       " 'Daxu',\n",
       " 'Kintsugi',\n",
       " 'Feudal Lord',\n",
       " 'Olympus',\n",
       " 'Ikusa',\n",
       " 'Raiatea',\n",
       " 'Warriors of Japan: A Country Aflame 1335-1339',\n",
       " 'Tatsu',\n",
       " 'Café International',\n",
       " 'Shogun',\n",
       " 'Luna',\n",
       " 'Samurai Vassal',\n",
       " 'Stone Garden',\n",
       " 'Seven Swords',\n",
       " 'Okiya',\n",
       " 'Banish the Snakes: A Game of St. Patrick in Ireland',\n",
       " 'Shogunate',\n",
       " 'Daimyo: Rebirth of the Empire',\n",
       " 'Uxmal',\n",
       " 'Pirates, Ninjas, Robots, & Zombies',\n",
       " 'Kaleido',\n",
       " 'Rolling Japan',\n",
       " 'Yokohama',\n",
       " 'Yashima: Legend of the Kami Masters',\n",
       " 'Chopstick Dexterity MegaChallenge 3000',\n",
       " 'Kaiju Siege',\n",
       " 'Dragon Boats of the Four Seas',\n",
       " 'Confucius',\n",
       " 'HUANG',\n",
       " 'Kai-Zen',\n",
       " 'Red Panda',\n",
       " 'Kaigan',\n",
       " 'Samurai: Game of Politics and Warfare in Feudal Japan',\n",
       " 'Pilgrim',\n",
       " 'Fireball Island',\n",
       " 'Honor of the Samurai',\n",
       " 'Tipperary',\n",
       " \"K'uh Nah\"]"
      ]
     },
     "execution_count": 64,
     "metadata": {},
     "output_type": "execute_result"
    }
   ],
   "source": [
    "list(names[top_n[1:]])"
   ]
  }
 ],
 "metadata": {
  "kernelspec": {
   "display_name": "bggrecommender",
   "language": "python",
   "name": "python3"
  },
  "language_info": {
   "codemirror_mode": {
    "name": "ipython",
    "version": 3
   },
   "file_extension": ".py",
   "mimetype": "text/x-python",
   "name": "python",
   "nbconvert_exporter": "python",
   "pygments_lexer": "ipython3",
   "version": "3.10.10"
  },
  "orig_nbformat": 4
 },
 "nbformat": 4,
 "nbformat_minor": 2
}
