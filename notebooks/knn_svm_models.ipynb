{
 "cells": [
  {
   "cell_type": "code",
   "execution_count": 1,
   "metadata": {},
   "outputs": [],
   "source": [
    "import numpy as np\n",
    "import pandas as pd"
   ]
  },
  {
   "cell_type": "code",
   "execution_count": 2,
   "metadata": {},
   "outputs": [],
   "source": [
    "df = pd.read_csv(\"bggrecommender/data/bgg_gamelist_all_details.csv\")\n",
    "df = df.query('~description.isnull()')\n",
    "ids = df[\"id\"]\n",
    "names = df[\"name\"]\n",
    "embeddings = np.load(\"bggrecommender/data/embeddings.npy\")\n",
    "#embeddings = np.loadtxt(\"bggrecommender/data/embeddings.gz\")"
   ]
  },
  {
   "cell_type": "code",
   "execution_count": 14,
   "metadata": {},
   "outputs": [],
   "source": [
    "embeddings_comp = np.load(\"bggrecommender/data/embeddings.npz\")[\"embeddings\"]"
   ]
  },
  {
   "cell_type": "code",
   "execution_count": 3,
   "metadata": {},
   "outputs": [],
   "source": [
    "embeddings = embeddings / np.sqrt((embeddings**2).sum(1, keepdims=True)) # L2 normalize the rows, as is common, in this case the embeddings we obtained from instructor-xl were already normalized."
   ]
  },
  {
   "cell_type": "code",
   "execution_count": 5,
   "metadata": {},
   "outputs": [
    {
     "data": {
      "text/plain": [
       "array([[1.],\n",
       "       [1.],\n",
       "       [1.],\n",
       "       ...,\n",
       "       [1.],\n",
       "       [1.],\n",
       "       [1.]])"
      ]
     },
     "execution_count": 5,
     "metadata": {},
     "output_type": "execute_result"
    }
   ],
   "source": [
    "np.sqrt((embeddings**2).sum(1, keepdims=True))"
   ]
  },
  {
   "cell_type": "code",
   "execution_count": 17,
   "metadata": {},
   "outputs": [
    {
     "data": {
      "text/plain": [
       "(24486, 768)"
      ]
     },
     "execution_count": 17,
     "metadata": {},
     "output_type": "execute_result"
    }
   ],
   "source": [
    "embeddings.shape"
   ]
  },
  {
   "cell_type": "code",
   "execution_count": 21,
   "metadata": {},
   "outputs": [
    {
     "data": {
      "text/plain": [
       "(768,)"
      ]
     },
     "execution_count": 21,
     "metadata": {},
     "output_type": "execute_result"
    }
   ],
   "source": [
    "query = embeddings[12] # Use CATAN as an example\n",
    "#query = embeddings[ids == 6707].squeeze()\n",
    "query.shape"
   ]
  },
  {
   "cell_type": "code",
   "execution_count": 22,
   "metadata": {},
   "outputs": [
    {
     "name": "stdout",
     "output_type": "stream",
     "text": [
      "top 10 results:\n",
      "row 238, similarity 0.9249699797717552\n",
      "row 3872, similarity 0.9078441041138743\n",
      "row 7781, similarity 0.8993142923018856\n",
      "row 12958, similarity 0.8923270730570181\n",
      "row 7343, similarity 0.8921123175026343\n",
      "row 13037, similarity 0.8913179618970136\n",
      "row 24382, similarity 0.8882377481422172\n",
      "row 7402, similarity 0.8834125880273019\n",
      "row 10693, similarity 0.8820077955509469\n",
      "row 7789, similarity 0.8818567183142362\n",
      "row 5484, similarity 0.8814609056904009\n",
      "row 4378, similarity 0.8809738402659556\n",
      "row 711, similarity 0.8797513701882536\n",
      "row 14691, similarity 0.8794540142994617\n",
      "row 15096, similarity 0.8793949653481807\n",
      "row 18012, similarity 0.8773672260223191\n",
      "row 13457, similarity 0.8772927690517545\n",
      "row 11511, similarity 0.8767464241870259\n",
      "row 23229, similarity 0.8762897664586161\n",
      "row 4889, similarity 0.8752335268833704\n"
     ]
    }
   ],
   "source": [
    "similarities = embeddings.dot(query)\n",
    "sorted_ix = np.argsort(-similarities)\n",
    "\n",
    "top_n = []\n",
    "print(\"top 10 results:\")\n",
    "for k in sorted_ix[1:21]:\n",
    "  print(f\"row {k}, similarity {similarities[k]}\")\n",
    "  top_n.append(k)"
   ]
  },
  {
   "cell_type": "code",
   "execution_count": 23,
   "metadata": {},
   "outputs": [
    {
     "data": {
      "text/plain": [
       "['Catan Card Game',\n",
       " 'The Settlers of Zarahemla',\n",
       " 'Catan Dice Game',\n",
       " 'New Haven',\n",
       " 'Desert Bazaar',\n",
       " 'Catan: Family Edition',\n",
       " 'Fugitive (Second Edition)',\n",
       " 'Simply Catan',\n",
       " 'Struggle for Catan',\n",
       " 'Die Siedler von Catan: Junior',\n",
       " 'Candamir: The First Settlers',\n",
       " 'Anno 1503',\n",
       " 'Roads & Boats',\n",
       " 'Double Mission: Beyond the Object',\n",
       " 'The Lords of Rock',\n",
       " 'Bronze',\n",
       " 'Bania',\n",
       " 'Star Trek: Catan',\n",
       " 'The Market: A Pocket Game',\n",
       " 'La Strada']"
      ]
     },
     "execution_count": 23,
     "metadata": {},
     "output_type": "execute_result"
    }
   ],
   "source": [
    "list(names[top_n])"
   ]
  },
  {
   "attachments": {},
   "cell_type": "markdown",
   "metadata": {},
   "source": [
    "### SVM"
   ]
  },
  {
   "cell_type": "code",
   "execution_count": 25,
   "metadata": {},
   "outputs": [
    {
     "name": "stdout",
     "output_type": "stream",
     "text": [
      "top 10 results:\n",
      "row 12, similarity 0.9927654268894202\n",
      "row 13037, similarity 0.02769531505664169\n",
      "row 238, similarity -0.04301077072541859\n",
      "row 14691, similarity -0.13577372255562492\n",
      "row 9993, similarity -0.1506640572050848\n",
      "row 13927, similarity -0.15190723643975979\n",
      "row 11511, similarity -0.15536846557135386\n",
      "row 3872, similarity -0.18717087126884502\n",
      "row 7781, similarity -0.19285689233556702\n",
      "row 7402, similarity -0.2300652410095494\n",
      "row 15288, similarity -0.25712353808070687\n",
      "row 5484, similarity -0.2719627019873725\n",
      "row 7789, similarity -0.2941698186977274\n",
      "row 2631, similarity -0.302143327722725\n",
      "row 9084, similarity -0.32932068936052183\n",
      "row 8907, similarity -0.3338197756191692\n",
      "row 24382, similarity -0.3447192491188129\n",
      "row 18782, similarity -0.34738139766193155\n",
      "row 11725, similarity -0.36762386533086067\n",
      "row 2479, similarity -0.40858637005762366\n",
      "row 7343, similarity -0.41714638825508765\n",
      "row 17982, similarity -0.4327583319635654\n",
      "row 24025, similarity -0.43891250705961893\n",
      "row 711, similarity -0.4615292253882537\n",
      "row 18012, similarity -0.4617007145614973\n",
      "row 8895, similarity -0.46191390438747715\n",
      "row 11922, similarity -0.47562642420510937\n",
      "row 20937, similarity -0.47652559537695804\n",
      "row 672, similarity -0.47680839916627815\n",
      "row 3503, similarity -0.48271447700435144\n",
      "row 15967, similarity -0.4885648386407002\n",
      "row 12958, similarity -0.49147078378623743\n",
      "row 17438, similarity -0.49600593651968095\n",
      "row 6905, similarity -0.4971966819408111\n",
      "row 1684, similarity -0.5012167953051999\n",
      "row 7400, similarity -0.5249167331892616\n",
      "row 20301, similarity -0.5394358348124513\n",
      "row 4889, similarity -0.5509771816526214\n",
      "row 15670, similarity -0.5530863757530236\n",
      "row 10357, similarity -0.5568106802407906\n",
      "row 7372, similarity -0.5613902385965288\n",
      "row 21983, similarity -0.5644180006339774\n",
      "row 8360, similarity -0.5693899584954137\n",
      "row 15096, similarity -0.5770144445822905\n",
      "row 14454, similarity -0.5780363008372944\n",
      "row 165, similarity -0.5801491095138197\n",
      "row 10693, similarity -0.581765872177518\n",
      "row 8489, similarity -0.5824144019994898\n",
      "row 11460, similarity -0.5866788591821975\n",
      "row 11808, similarity -0.5868580322254138\n",
      "row 11739, similarity -0.587086681529392\n",
      "row 11198, similarity -0.5903288517876295\n",
      "row 12560, similarity -0.5905576653221822\n",
      "row 3314, similarity -0.5921411209673185\n",
      "row 2885, similarity -0.5943961822111405\n",
      "row 12617, similarity -0.5952162397368937\n",
      "row 6308, similarity -0.5954926345696505\n",
      "row 13457, similarity -0.5997736764821577\n",
      "row 15793, similarity -0.6007882207151598\n",
      "row 5634, similarity -0.6008400093329652\n",
      "row 237, similarity -0.6012304109097095\n",
      "row 8617, similarity -0.6014297165946025\n",
      "row 12041, similarity -0.6030324967955802\n",
      "row 11902, similarity -0.6042812780579199\n",
      "row 4378, similarity -0.6048506322482003\n",
      "row 23402, similarity -0.6073015251968721\n",
      "row 11558, similarity -0.6077864588559764\n",
      "row 13452, similarity -0.6090766501062588\n",
      "row 8453, similarity -0.610128019283259\n",
      "row 4362, similarity -0.6103629671862704\n",
      "row 11848, similarity -0.6204317675474837\n",
      "row 2176, similarity -0.6216054590964943\n",
      "row 16438, similarity -0.6218211451227958\n",
      "row 13042, similarity -0.6235735400697939\n",
      "row 16827, similarity -0.6243172225410565\n",
      "row 11224, similarity -0.6257820233155594\n",
      "row 705, similarity -0.6269687637714348\n",
      "row 695, similarity -0.6288372594819701\n",
      "row 15529, similarity -0.6314119317910234\n",
      "row 3341, similarity -0.63602152190824\n",
      "row 2146, similarity -0.6376106321028713\n",
      "row 9908, similarity -0.6393307524152464\n",
      "row 1386, similarity -0.6405885738445307\n",
      "row 13459, similarity -0.6429387077662692\n",
      "row 11265, similarity -0.646917523968751\n",
      "row 1005, similarity -0.6478356437785703\n",
      "row 431, similarity -0.6491503614085226\n",
      "row 5, similarity -0.6492649532429275\n",
      "row 9691, similarity -0.6516268379194606\n",
      "row 4814, similarity -0.6524083695150454\n",
      "row 11505, similarity -0.6530613238272157\n",
      "row 11087, similarity -0.6538623918361963\n",
      "row 22991, similarity -0.6557830297805403\n",
      "row 18242, similarity -0.6562308280487308\n",
      "row 12132, similarity -0.6575544802353307\n",
      "row 13215, similarity -0.6582304485495075\n",
      "row 9045, similarity -0.6585841090992729\n",
      "row 1188, similarity -0.6589165692357513\n",
      "row 20364, similarity -0.6591309090325099\n",
      "row 12035, similarity -0.6599333326456478\n"
     ]
    }
   ],
   "source": [
    "from sklearn import svm\n",
    "\n",
    "# create the \"Dataset\"\n",
    "x = embeddings\n",
    "y = np.zeros(x.shape[0])\n",
    "#x = np.concatenate([query[None,...], embeddings]) # x is (1001, 1536) array, with query now as the first row\n",
    "#y = np.zeros(1001)\n",
    "#y[12] = 1 # we have a single positive example, mark it as such\n",
    "y[ids == 13] = 1\n",
    "\n",
    "# train our (Exemplar) SVM\n",
    "# docs: https://scikit-learn.org/stable/modules/generated/sklearn.svm.LinearSVC.html\n",
    "clf = svm.LinearSVC(class_weight='balanced', verbose=False, max_iter=10000, tol=1e-6, C=0.1)\n",
    "clf.fit(x, y) # train\n",
    "\n",
    "# infer on whatever data you wish, e.g. the original data\n",
    "similarities = clf.decision_function(x)\n",
    "sorted_ix = np.argsort(-similarities)\n",
    "top_n = []\n",
    "print(\"top 10 results:\")\n",
    "for k in sorted_ix[:100]:\n",
    "  print(f\"row {k}, similarity {similarities[k]}\")\n",
    "  top_n.append(k)"
   ]
  },
  {
   "cell_type": "code",
   "execution_count": 26,
   "metadata": {},
   "outputs": [
    {
     "data": {
      "text/plain": [
       "12                                                   CATAN\n",
       "13037                                Catan: Family Edition\n",
       "238                                        Catan Card Game\n",
       "14691                    Double Mission: Beyond the Object\n",
       "9993     Catan Histories: Settlers of America – Trails ...\n",
       "                               ...                        \n",
       "13215                                               Castro\n",
       "9045                                           Carson City\n",
       "1188                                          Bauernschlau\n",
       "20364                    Colonialism: Expanded 2nd edition\n",
       "12035                                          Castle Dice\n",
       "Name: name, Length: 100, dtype: object"
      ]
     },
     "execution_count": 26,
     "metadata": {},
     "output_type": "execute_result"
    }
   ],
   "source": [
    "names[top_n]"
   ]
  }
 ],
 "metadata": {
  "kernelspec": {
   "display_name": "bggrecommender",
   "language": "python",
   "name": "python3"
  },
  "language_info": {
   "codemirror_mode": {
    "name": "ipython",
    "version": 3
   },
   "file_extension": ".py",
   "mimetype": "text/x-python",
   "name": "python",
   "nbconvert_exporter": "python",
   "pygments_lexer": "ipython3",
   "version": "3.10.10"
  },
  "orig_nbformat": 4
 },
 "nbformat": 4,
 "nbformat_minor": 2
}
