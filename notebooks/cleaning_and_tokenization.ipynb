{
 "cells": [
  {
   "cell_type": "code",
   "execution_count": 18,
   "metadata": {},
   "outputs": [
    {
     "name": "stderr",
     "output_type": "stream",
     "text": [
      "/home/kpatelis/projects/bggrecommender/lib/python3.10/site-packages/InstructorEmbedding/instructor.py:7: TqdmWarning: IProgress not found. Please update jupyter and ipywidgets. See https://ipywidgets.readthedocs.io/en/stable/user_install.html\n",
      "  from tqdm.autonotebook import trange\n"
     ]
    }
   ],
   "source": [
    "import numpy as np\n",
    "import pandas as pd\n",
    "from pathlib import Path\n",
    "from rapidfuzz import fuzz, process\n",
    "from html import unescape\n",
    "from InstructorEmbedding import INSTRUCTOR\n",
    "import pandas as pd\n",
    "from tqdm.auto import tqdm\n",
    "import tiktoken"
   ]
  },
  {
   "cell_type": "code",
   "execution_count": 3,
   "metadata": {},
   "outputs": [],
   "source": [
    "work_dir = Path().resolve()\n",
    "df = pd.read_csv(work_dir/\"data/bgg_gamelist_all_details.csv\")"
   ]
  },
  {
   "cell_type": "code",
   "execution_count": 4,
   "metadata": {},
   "outputs": [
    {
     "data": {
      "text/html": [
       "<div>\n",
       "<style scoped>\n",
       "    .dataframe tbody tr th:only-of-type {\n",
       "        vertical-align: middle;\n",
       "    }\n",
       "\n",
       "    .dataframe tbody tr th {\n",
       "        vertical-align: top;\n",
       "    }\n",
       "\n",
       "    .dataframe thead th {\n",
       "        text-align: right;\n",
       "    }\n",
       "</style>\n",
       "<table border=\"1\" class=\"dataframe\">\n",
       "  <thead>\n",
       "    <tr style=\"text-align: right;\">\n",
       "      <th></th>\n",
       "      <th>name</th>\n",
       "      <th>description</th>\n",
       "    </tr>\n",
       "  </thead>\n",
       "  <tbody>\n",
       "    <tr>\n",
       "      <th>0</th>\n",
       "      <td>Die Macher</td>\n",
       "      <td>Die Macher is a game about seven sequential po...</td>\n",
       "    </tr>\n",
       "    <tr>\n",
       "      <th>1</th>\n",
       "      <td>Dragonmaster</td>\n",
       "      <td>Dragonmaster is a trick-taking card game based...</td>\n",
       "    </tr>\n",
       "    <tr>\n",
       "      <th>2</th>\n",
       "      <td>Samurai</td>\n",
       "      <td>Samurai is set in medieval Japan. Players comp...</td>\n",
       "    </tr>\n",
       "    <tr>\n",
       "      <th>3</th>\n",
       "      <td>Tal der Könige</td>\n",
       "      <td>When you see the triangular box and the luxuri...</td>\n",
       "    </tr>\n",
       "    <tr>\n",
       "      <th>4</th>\n",
       "      <td>Acquire</td>\n",
       "      <td>In Acquire, each player strategically invests ...</td>\n",
       "    </tr>\n",
       "  </tbody>\n",
       "</table>\n",
       "</div>"
      ],
      "text/plain": [
       "             name                                        description\n",
       "0      Die Macher  Die Macher is a game about seven sequential po...\n",
       "1    Dragonmaster  Dragonmaster is a trick-taking card game based...\n",
       "2         Samurai  Samurai is set in medieval Japan. Players comp...\n",
       "3  Tal der Könige  When you see the triangular box and the luxuri...\n",
       "4         Acquire  In Acquire, each player strategically invests ..."
      ]
     },
     "execution_count": 4,
     "metadata": {},
     "output_type": "execute_result"
    }
   ],
   "source": [
    "df[[\"name\", \"description\"]].head()"
   ]
  },
  {
   "cell_type": "code",
   "execution_count": 5,
   "metadata": {},
   "outputs": [],
   "source": [
    "df = df.query(\"~description.isnull()\")"
   ]
  },
  {
   "cell_type": "code",
   "execution_count": 6,
   "metadata": {},
   "outputs": [],
   "source": [
    "# https://www.w3schools.com/html/html_entities.asp\n",
    "df[\"description_clean\"] = df[\"description\"].apply(unescape)"
   ]
  },
  {
   "cell_type": "code",
   "execution_count": 15,
   "metadata": {},
   "outputs": [],
   "source": [
    "def anonymize_titles(row):\n",
    "    \n",
    "    description = row['description_clean']\n",
    "    name = row['name']\n",
    "    description = description.replace(name, \"[GAME_NAME]\")\n",
    "    description = description.replace(name.lower(), \"[GAME_NAME]\")\n",
    "    description = description.replace(name.upper(), \"[GAME_NAME]\")\n",
    "    description = description.replace(name.title(), \"[GAME_NAME]\")\n",
    "    description = description.replace(name.capitalize(), \"[GAME_NAME]\")\n",
    "    \n",
    "    return description"
   ]
  },
  {
   "cell_type": "code",
   "execution_count": 16,
   "metadata": {},
   "outputs": [],
   "source": [
    "# Apply the anonymize_titles function to the 'description_clean' column\n",
    "df['description_anon'] = df.apply(anonymize_titles, axis=1)"
   ]
  },
  {
   "cell_type": "code",
   "execution_count": 17,
   "metadata": {},
   "outputs": [],
   "source": [
    "df.to_csv(work_dir/\"data/bgg_gamelist_cleaned.csv\", index=False, encoding=\"utf-8\")"
   ]
  },
  {
   "cell_type": "code",
   "execution_count": 19,
   "metadata": {},
   "outputs": [
    {
     "data": {
      "text/plain": [
       "['[GAME_NAME] is a game about seven sequential political races in different regions of Germany. Players are in charge of national political parties, and must manage limited resources to help their party to victory. The winning party will have the most victory points after all the regional elections. There are four different ways of scoring victory points. First, each regional election can supply one to eighty victory points, depending on the size of the region and how well your party does in it. Second, if a party wins a regional election and has some media influence in the region, then the party will receive some media-control victory points. Third, each party has a national party membership which will grow as the game progresses and this will supply a fair number of victory points. Lastly, parties score some victory points if their party platform matches the national opinions at the end of the game.\\n\\nThe 1986 edition featured four parties from the old West Germany and supported 3-4 players. The 1997 edition supports up to five players in the re-united Germany and updated several features of the rules as well.  The 2006 edition also supports up to five players and adds a shorter five-round variant and additional rules updates by the original designer.\\n\\n',\n",
       " '[GAME_NAME] is a trick-taking card game based on an older game called Coup d\\'Ã‰tat. Each player is given a supply of plastic gems, which represent points. Each player will get to be the dealer for five different hands, with slightly different goals for each hand. After all cards have been dealt out, the dealer decides which hand best suits his or her current cards, and the other players are penalized points (in the form of crystals) for taking certain tricks or cards. For instance, if \"first\" or \"last\" is called, then a player is penalized for taking the first or last tricks. All players will get a chance to be dealer for five hands, but other players can steal this opportunity by taking all of the tricks during certain hands. At the end, the biggest pile of gems wins the game.\\n\\nJewel contents:\\n\\n10 clear (2 extra)\\n14 green (2 extra)\\n22 red (2 extra)\\n22 blue (2 extra)\\n\\n',\n",
       " '[GAME_NAME] is set in medieval Japan. Players compete to gain the favor of three factions: [GAME_NAME], peasants, and priests, which are represented by helmet, rice paddy, and Buddha figures scattered about the board, which features the islands of Japan. The competition is waged through the use of hexagonal tiles, each of which help curry favor of one of the three factions — or all three at once! Players can make lightning-quick strikes with horseback ronin and ships or approach their conquests more methodically. As each figure (helmets, rice paddies, and Buddhas) is surrounded, it is awarded to the player who has gained the most favor with the corresponding group.\\n\\nGameplay continues until all the symbols of one type have been removed from the board or four figures have been removed from play due to a tie for influence.\\n\\nAt the end of the game, players compare captured symbols of each type, competing for majorities in each of the three types. Ties are not uncommon and are broken based on the number of other, \"non-majority\" symbols each player has collected.\\n\\nThe game is part of what is sometimes called the Knizia tile-laying trilogy.\\n\\n',\n",
       " 'When you see the triangular box and the luxurious, large blocks of [GAME_NAME] (German: \"Valley of the Kings\"), you can tell this game was designed to be beautiful as well as functional.  The object of the game is to build pyramids out of the different colored blocks.  A pyramid scores more points when it\\'s made from a few colors, but it\\'s much harder to consistently outbid the other players for the necessary blocks.  The game is over when the Pharoah\\'s Pyramid in the center is completed, which is built using all the blocks that the players don\\'t use during the course of the game.\\n\\nFinal round 1990 Hippodice Spieleautorenwettbewerb.\\n\\n',\n",
       " 'In [GAME_NAME], each player strategically invests in businesses, trying to retain a majority of stock.  As the businesses grow with tile placements, they also start merging, giving the majority stockholders of the [GAME_NAME]d business sizable bonuses, which can then be used to reinvest into other chains.  All of the investors in the [GAME_NAME]d company can then cash in their stocks for current value or trade them 2-for-1 for shares of the newer, larger business.  The game is a race to [GAME_NAME] the greatest wealth.\\n\\nHistory of [GAME_NAME]: This Sid Sackson classic has taken many different forms over the years depending on the publisher, yet the rules and game play have stayed the same. The 1966 version of the 3M bookshelf edition included rules for a 2-player variant. The original version is part of the 3M Bookshelf Series.\\n\\nMany books and websites incorrectly list this as a 1962 publication as the 3M Company used previously copyrighted artwork when they released the game in 1964. 3M actually received the idea for the game of \"Vacations\" from Sid Sackson in May of 1963 and decided to take his idea and put it into artwork they had developed the year before for a game called \"[GAME_NAME].\" 3M\\'s original game idea for a game called [GAME_NAME] must not have been very good so they decided to take Sid\\'s idea of Vacations and put it into their concept of [GAME_NAME]. They released some limited test market games in 8 Midwestern U.S. cities in December of 1963 with a box that had a 1963 copyright. These games had Sid\\'s original rules. When 3M released the mass market games in 1964, they had taken liberties with some of Sid\\'s original ideas and changed some rules and game play to match their production desires. They released them with outer boxes that were copyrighted 1962 and inner boxes with rules that were dated 1963.\\n\\nDecember 1963 - Test Market World Map Wood Tile Edition\\n1964 - Dated 1962/63 wood tiles, chipboard with plastic overlay & stocks with printed backs\\n1965 - Dated 1962/63 plastic tiles, chipboard with plastic overlay & stocks with printed backs (last edition made with printed backs until 1999)\\n1966 - Dated 1962/66 plastic tiles, chipboard with plastic overlay & non-wax coated stocks (Only edition with these stocks)\\n1968 - Dated 1968/66 plastic tiles, clear plastic board with paper underlay (Both 1966 inner box games have a lot of mixed parts)\\n1971 - Dated 1968/71 plastic tiles, yellow hard plastic board\\n1975 - 3M sells rights for game of [GAME_NAME] to the Avalon Hill Company\\n1976 - Dated 1976 plastic tiles, yellow hard plastic board, redesigned money, no inner box (This edition was also produced in 1977, 79, 81, 82,       & 86)\\n1989 - Dated 1976 Gray box edition with new box artwork same contents as regular 1976 editions (This edition was also produced in 1992)\\n1995 - Dated 1995 Large box cardboard edition with chipboard board and tiles, Special Powers Variant Tiles inspired by German editions\\n1997 - Avalon Hill sells the rights to the game of [GAME_NAME] to Hasbro\\n1999 - Dated 1999 Large box with large plastic board and tiles, 3D company buildings, redesigned stocks & money, large info cards\\n2006 - Hasbro assigns rights for the game of [GAME_NAME] to their subsidiary, Wizards of the Coast\\n2006 - Lloyd\\'s Rules of [GAME_NAME] are made public, two major rule changes that help to bring the balance of the game of [GAME_NAME] back to the  intentions of Sid Sackson\\'s original ideas \\n2008 - Dated 2008 cardboard edition with chipboard board & tiles, redesigned stocks & money\\n2016 - Dated 2016 The current affordable mass-market edition. It looks at first sight to be similar to previous modern editions, but has been criticised for the use of inferior design choices such as hard-to-read grey-on-grey embossed slots and the unusual tile fonts. It contains modified rules and a slightly smaller playing grid. Although these changes have been criticised for not ultimately improving upon Sackson\\'s original design, they are generally regarded as not being too damaging to it.\\n\\n']"
      ]
     },
     "execution_count": 19,
     "metadata": {},
     "output_type": "execute_result"
    }
   ],
   "source": [
    "descriptions = list(df[\"description_anon\"])\n",
    "descriptions[0:5]"
   ]
  },
  {
   "cell_type": "code",
   "execution_count": 20,
   "metadata": {},
   "outputs": [
    {
     "data": {
      "text/plain": [
       "(5966556, 2.3866224)"
      ]
     },
     "execution_count": 20,
     "metadata": {},
     "output_type": "execute_result"
    }
   ],
   "source": [
    "def num_tokens_from_string(string: str, encoding_name: str) -> int:\n",
    "    \"\"\"Returns the number of tokens in a text string.\"\"\"\n",
    "    encoding = tiktoken.get_encoding(encoding_name)\n",
    "    num_tokens = len(encoding.encode(string))\n",
    "    return num_tokens\n",
    "\n",
    "sum = 0\n",
    "for description in descriptions:\n",
    "    sum += num_tokens_from_string(description, \"cl100k_base\")\n",
    "    \n",
    "sum, sum / 1000 * 0.0004"
   ]
  },
  {
   "cell_type": "code",
   "execution_count": 21,
   "metadata": {},
   "outputs": [
    {
     "name": "stdout",
     "output_type": "stream",
     "text": [
      "load INSTRUCTOR_Transformer\n",
      "max_seq_length  512\n"
     ]
    }
   ],
   "source": [
    "model = INSTRUCTOR('hkunlp/instructor-xl')\n",
    "embeddings = []\n",
    "instruction = \"Represent the Board Game description:\""
   ]
  },
  {
   "cell_type": "code",
   "execution_count": 23,
   "metadata": {},
   "outputs": [
    {
     "name": "stderr",
     "output_type": "stream",
     "text": [
      "100%|██████████| 24610/24610 [48:55<00:00,  8.38it/s] \n"
     ]
    }
   ],
   "source": [
    "for description in tqdm(descriptions):\n",
    "    embedding = model.encode([[instruction, description]])\n",
    "    embeddings.append(embedding)\n",
    "    \n",
    "embeddings = np.squeeze(np.array(embeddings))"
   ]
  },
  {
   "cell_type": "code",
   "execution_count": 24,
   "metadata": {},
   "outputs": [
    {
     "data": {
      "text/plain": [
       "array([[ 0.01089991, -0.00284493, -0.01085802, ..., -0.02386524,\n",
       "        -0.00545416,  0.04095952],\n",
       "       [ 0.01260252,  0.01407043, -0.0187649 , ..., -0.03197284,\n",
       "        -0.0354678 ,  0.05217465],\n",
       "       [ 0.00757259, -0.00513413, -0.02251686, ..., -0.0095973 ,\n",
       "         0.01520702,  0.08106932],\n",
       "       [ 0.00116381, -0.0018552 , -0.00422471, ..., -0.01492945,\n",
       "         0.00567882,  0.05711071],\n",
       "       [ 0.02843119, -0.02714729,  0.01903991, ..., -0.03269599,\n",
       "        -0.04426932,  0.01512   ]], dtype=float32)"
      ]
     },
     "execution_count": 24,
     "metadata": {},
     "output_type": "execute_result"
    }
   ],
   "source": [
    "embeddings[:5]"
   ]
  },
  {
   "cell_type": "code",
   "execution_count": 58,
   "metadata": {},
   "outputs": [],
   "source": [
    "embeddings = embeddings / np.sqrt((embeddings**2).sum(1, keepdims=True))\n",
    "\n",
    "np.savez_compressed(work_dir/\"data/embeddings.npz\", embeddings = embeddings)"
   ]
  },
  {
   "cell_type": "code",
   "execution_count": 43,
   "metadata": {},
   "outputs": [
    {
     "data": {
      "text/plain": [
       "array([[1.],\n",
       "       [1.],\n",
       "       [1.],\n",
       "       ...,\n",
       "       [1.],\n",
       "       [1.],\n",
       "       [1.]], dtype=float32)"
      ]
     },
     "execution_count": 43,
     "metadata": {},
     "output_type": "execute_result"
    }
   ],
   "source": [
    "np.sqrt((embeddings**2).sum(1, keepdims=True))"
   ]
  },
  {
   "cell_type": "code",
   "execution_count": 28,
   "metadata": {},
   "outputs": [
    {
     "data": {
      "text/plain": [
       "(768,)"
      ]
     },
     "execution_count": 28,
     "metadata": {},
     "output_type": "execute_result"
    }
   ],
   "source": [
    "query = embeddings[12] # Use CATAN as an example\n",
    "#query = embeddings[ids == 6707].squeeze()\n",
    "query.shape"
   ]
  },
  {
   "cell_type": "code",
   "execution_count": 30,
   "metadata": {},
   "outputs": [
    {
     "name": "stdout",
     "output_type": "stream",
     "text": [
      "top results:\n",
      "row 12, similarity 1.0000001192092896\n",
      "row 12965, similarity 0.9119023084640503\n",
      "row 238, similarity 0.9105767011642456\n",
      "row 3872, similarity 0.9104617834091187\n",
      "row 4378, similarity 0.9054649472236633\n",
      "row 11232, similarity 0.9050711393356323\n",
      "row 15102, similarity 0.9046278595924377\n",
      "row 24473, similarity 0.904604971408844\n",
      "row 7347, similarity 0.9006145000457764\n",
      "row 18820, similarity 0.8993796110153198\n",
      "row 20314, similarity 0.8980516195297241\n",
      "row 17991, similarity 0.8970128297805786\n",
      "row 23034, similarity 0.8964637517929077\n",
      "row 14698, similarity 0.8959041237831116\n",
      "row 12195, similarity 0.8956476449966431\n",
      "row 2146, similarity 0.8944798707962036\n",
      "row 10456, similarity 0.8909525275230408\n",
      "row 9090, similarity 0.8900841474533081\n",
      "row 3314, similarity 0.8898947238922119\n",
      "row 5635, similarity 0.8897260427474976\n",
      "row 7786, similarity 0.8894286155700684\n"
     ]
    }
   ],
   "source": [
    "similarities = embeddings.dot(query)\n",
    "sorted_ix = np.argsort(-similarities)\n",
    "\n",
    "top_n = []\n",
    "print(\"top results:\")\n",
    "for k in sorted_ix[0:21]:\n",
    "  print(f\"row {k}, similarity {similarities[k]}\")\n",
    "  top_n.append(k)"
   ]
  },
  {
   "cell_type": "code",
   "execution_count": 31,
   "metadata": {},
   "outputs": [
    {
     "data": {
      "text/plain": [
       "['CATAN',\n",
       " 'New Haven',\n",
       " 'Catan Card Game',\n",
       " 'The Settlers of Zarahemla',\n",
       " 'Anno 1503',\n",
       " 'Kingdom Builder',\n",
       " 'The Lords of Rock',\n",
       " 'Fugitive (Second Edition)',\n",
       " 'Desert Bazaar',\n",
       " 'Scarabya',\n",
       " 'Two Robots',\n",
       " 'Scare It!',\n",
       " 'Chili Mafia',\n",
       " 'Double Mission: Beyond the Object',\n",
       " 'Eight-Minute Empire',\n",
       " 'Puerto Rico',\n",
       " 'The Castles of Burgundy',\n",
       " 'Islas Canarias',\n",
       " 'New England',\n",
       " 'Neuland',\n",
       " 'Catan Dice Game']"
      ]
     },
     "execution_count": 31,
     "metadata": {},
     "output_type": "execute_result"
    }
   ],
   "source": [
    "names = df[\"name\"]\n",
    "list(names[top_n])"
   ]
  },
  {
   "cell_type": "markdown",
   "metadata": {},
   "source": [
    "### SVM"
   ]
  },
  {
   "cell_type": "code",
   "execution_count": 33,
   "metadata": {},
   "outputs": [
    {
     "name": "stdout",
     "output_type": "stream",
     "text": [
      "top 10 results:\n",
      "row 12, similarity 0.9921468465167289\n",
      "row 8366, similarity -0.1245473268946986\n",
      "row 13044, similarity -0.14611131065267347\n",
      "row 24473, similarity -0.2653902864124237\n",
      "row 2631, similarity -0.28794378992105085\n",
      "row 3872, similarity -0.332090672765712\n",
      "row 9090, similarity -0.33368159471277814\n",
      "row 7794, similarity -0.35497496652896543\n",
      "row 11512, similarity -0.3564880539268225\n",
      "row 3314, similarity -0.3570965137151445\n",
      "row 7621, similarity -0.36093120332841444\n",
      "row 14698, similarity -0.37378156805589446\n",
      "row 5484, similarity -0.3810033274403306\n",
      "row 7347, similarity -0.38438970536333883\n",
      "row 4378, similarity -0.38847254359100125\n",
      "row 8215, similarity -0.39367581931287465\n",
      "row 15102, similarity -0.40603995236606105\n",
      "row 431, similarity -0.41294659638761566\n",
      "row 8623, similarity -0.41682609696727846\n",
      "row 17991, similarity -0.4249049416649814\n",
      "row 238, similarity -0.4270815218867049\n",
      "row 20314, similarity -0.4321367087715029\n",
      "row 20801, similarity -0.43922777636717936\n",
      "row 7404, similarity -0.4406364893022858\n",
      "row 7786, similarity -0.4416738660653772\n",
      "row 7406, similarity -0.44240303186429597\n",
      "row 12965, similarity -0.4440869607606758\n",
      "row 11746, similarity -0.44468933131314625\n",
      "row 7798, similarity -0.4493635343626279\n",
      "row 4889, similarity -0.45205037976535123\n",
      "row 1187, similarity -0.4535415372745353\n",
      "row 15294, similarity -0.45381510195455\n",
      "row 8248, similarity -0.4576971670016252\n",
      "row 18820, similarity -0.4629870211875199\n",
      "row 20765, similarity -0.46822421731748287\n",
      "row 11232, similarity -0.47435510284874616\n",
      "row 13934, similarity -0.48599486555138416\n",
      "row 2146, similarity -0.4892484868282272\n",
      "row 13858, similarity -0.4953691347800815\n",
      "row 19904, similarity -0.4973080522514097\n",
      "row 16119, similarity -0.5008432524162016\n",
      "row 11732, similarity -0.5031030155110894\n",
      "row 22010, similarity -0.5078928444681415\n",
      "row 2176, similarity -0.508503969768772\n",
      "row 2479, similarity -0.5125998922471214\n",
      "row 3503, similarity -0.5196556704738129\n",
      "row 12977, similarity -0.5213454482402688\n",
      "row 11246, similarity -0.5275065174700998\n",
      "row 13843, similarity -0.5285128403791655\n",
      "row 177, similarity -0.5316917661533421\n",
      "row 705, similarity -0.5327870787427551\n",
      "row 24520, similarity -0.5335817677143866\n",
      "row 18792, similarity -0.5350279687828645\n",
      "row 23034, similarity -0.5375121169944825\n",
      "row 711, similarity -0.5428720488574853\n",
      "row 23074, similarity -0.5430923152783025\n",
      "row 11815, similarity -0.5565919964837103\n",
      "row 9601, similarity -0.5653735863300715\n",
      "row 18253, similarity -0.5654730771658141\n",
      "row 13833, similarity -0.5656242244337559\n",
      "row 17756, similarity -0.5658589068248835\n",
      "row 7440, similarity -0.5696069953030465\n",
      "row 11909, similarity -0.5716557168047253\n",
      "row 15676, similarity -0.5763067404327321\n",
      "row 12049, similarity -0.5780315122171903\n",
      "row 8929, similarity -0.579802925716665\n",
      "row 22274, similarity -0.5807607851431611\n",
      "row 3319, similarity -0.580931458271347\n",
      "row 1765, similarity -0.5818198066361131\n",
      "row 13459, similarity -0.5824558417759025\n",
      "row 16835, similarity -0.5841191108957354\n",
      "row 10000, similarity -0.5845290284949568\n",
      "row 4814, similarity -0.5877008346574604\n",
      "row 9819, similarity -0.5919416153951113\n",
      "row 10456, similarity -0.5935886312730003\n",
      "row 23738, similarity -0.5940565172998895\n",
      "row 9827, similarity -0.5987056621281623\n",
      "row 3758, similarity -0.5999047828800074\n",
      "row 19344, similarity -0.6034987660522879\n",
      "row 23451, similarity -0.6148399917512561\n",
      "row 16300, similarity -0.6156264470544054\n",
      "row 4374, similarity -0.6179988813692586\n",
      "row 16800, similarity -0.6180077319438991\n",
      "row 23277, similarity -0.6195297394937656\n",
      "row 15973, similarity -0.6221689316014731\n",
      "row 11565, similarity -0.6245867560932883\n",
      "row 2078, similarity -0.6256128545865892\n",
      "row 7719, similarity -0.6307203565040148\n",
      "row 12043, similarity -0.6313286519153795\n",
      "row 23083, similarity -0.6327533435516697\n",
      "row 14811, similarity -0.6343113999535646\n",
      "row 19692, similarity -0.6348391331668082\n",
      "row 11929, similarity -0.6373193063603648\n",
      "row 9102, similarity -0.6390155340228112\n",
      "row 8060, similarity -0.6434878995111527\n",
      "row 13466, similarity -0.6441918035017309\n",
      "row 6775, similarity -0.644533226373097\n",
      "row 11206, similarity -0.6489853615098375\n",
      "row 8913, similarity -0.6498527070676196\n",
      "row 20895, similarity -0.6498772120338466\n"
     ]
    }
   ],
   "source": [
    "from sklearn import svm\n",
    "ids = df[\"id\"]\n",
    "# create the \"Dataset\"\n",
    "x = embeddings\n",
    "y = np.zeros(x.shape[0])\n",
    "#x = np.concatenate([query[None,...], embeddings]) # x is (1001, 1536) array, with query now as the first row\n",
    "#y = np.zeros(1001)\n",
    "#y[12] = 1 # we have a single positive example, mark it as such\n",
    "y[ids == 13] = 1\n",
    "\n",
    "# train our (Exemplar) SVM\n",
    "# docs: https://scikit-learn.org/stable/modules/generated/sklearn.svm.LinearSVC.html\n",
    "clf = svm.LinearSVC(class_weight='balanced', verbose=False, max_iter=10000, tol=1e-6, C=0.1)\n",
    "clf.fit(x, y) # train\n",
    "\n",
    "# infer on whatever data you wish, e.g. the original data\n",
    "similarities = clf.decision_function(x)\n",
    "sorted_ix = np.argsort(-similarities)\n",
    "top_n = []\n",
    "print(\"top 10 results:\")\n",
    "for k in sorted_ix[:100]:\n",
    "  print(f\"row {k}, similarity {similarities[k]}\")\n",
    "  top_n.append(k)"
   ]
  },
  {
   "cell_type": "code",
   "execution_count": 35,
   "metadata": {},
   "outputs": [
    {
     "data": {
      "text/plain": [
       "3872         The Settlers of Zarahemla\n",
       "9090                    Islas Canarias\n",
       "7794     Die Siedler von Catan: Junior\n",
       "11512                       Milestones\n",
       "3314                       New England\n",
       "Name: name, dtype: object"
      ]
     },
     "execution_count": 35,
     "metadata": {},
     "output_type": "execute_result"
    }
   ],
   "source": [
    "names[top_n]"
   ]
  }
 ],
 "metadata": {
  "kernelspec": {
   "display_name": "bggrecommender",
   "language": "python",
   "name": "python3"
  },
  "language_info": {
   "codemirror_mode": {
    "name": "ipython",
    "version": 3
   },
   "file_extension": ".py",
   "mimetype": "text/x-python",
   "name": "python",
   "nbconvert_exporter": "python",
   "pygments_lexer": "ipython3",
   "version": "3.10.10"
  },
  "orig_nbformat": 4
 },
 "nbformat": 4,
 "nbformat_minor": 2
}
