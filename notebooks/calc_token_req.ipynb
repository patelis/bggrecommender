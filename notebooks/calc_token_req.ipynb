{
 "cells": [
  {
   "cell_type": "code",
   "execution_count": 1,
   "metadata": {},
   "outputs": [
    {
     "name": "stderr",
     "output_type": "stream",
     "text": [
      "/home/kpatelis/projects/bggrecommender/lib/python3.10/site-packages/InstructorEmbedding/instructor.py:7: TqdmWarning: IProgress not found. Please update jupyter and ipywidgets. See https://ipywidgets.readthedocs.io/en/stable/user_install.html\n",
      "  from tqdm.autonotebook import trange\n"
     ]
    }
   ],
   "source": [
    "from InstructorEmbedding import INSTRUCTOR\n",
    "import pandas as pd\n",
    "from tqdm.auto import tqdm\n",
    "import numpy as np\n",
    "import tiktoken"
   ]
  },
  {
   "cell_type": "code",
   "execution_count": 3,
   "metadata": {},
   "outputs": [],
   "source": [
    "df = pd.read_csv(\"data/bgg_gamelist_all_details.csv\")\n",
    "\n",
    "# Drop game with no description\n",
    "df = df.query('~description.isnull()')"
   ]
  },
  {
   "cell_type": "code",
   "execution_count": 4,
   "metadata": {},
   "outputs": [
    {
     "data": {
      "text/plain": [
       "['Die Macher is a game about seven sequential political races in different regions of Germany. Players are in charge of national political parties, and must manage limited resources to help their party to victory. The winning party will have the most victory points after all the regional elections. There are four different ways of scoring victory points. First, each regional election can supply one to eighty victory points, depending on the size of the region and how well your party does in it. Second, if a party wins a regional election and has some media influence in the region, then the party will receive some media-control victory points. Third, each party has a national party membership which will grow as the game progresses and this will supply a fair number of victory points. Lastly, parties score some victory points if their party platform matches the national opinions at the end of the game.&#10;&#10;The 1986 edition featured four parties from the old West Germany and supported 3-4 players. The 1997 edition supports up to five players in the re-united Germany and updated several features of the rules as well.  The 2006 edition also supports up to five players and adds a shorter five-round variant and additional rules updates by the original designer.&#10;&#10;',\n",
       " \"Dragonmaster is a trick-taking card game based on an older game called Coup d'&#195;&#137;tat. Each player is given a supply of plastic gems, which represent points. Each player will get to be the dealer for five different hands, with slightly different goals for each hand. After all cards have been dealt out, the dealer decides which hand best suits his or her current cards, and the other players are penalized points (in the form of crystals) for taking certain tricks or cards. For instance, if &quot;first&quot; or &quot;last&quot; is called, then a player is penalized for taking the first or last tricks. All players will get a chance to be dealer for five hands, but other players can steal this opportunity by taking all of the tricks during certain hands. At the end, the biggest pile of gems wins the game.&#10;&#10;Jewel contents:&#10;&#10;10 clear (2 extra)&#10;14 green (2 extra)&#10;22 red (2 extra)&#10;22 blue (2 extra)&#10;&#10;\",\n",
       " 'Samurai is set in medieval Japan. Players compete to gain the favor of three factions: samurai, peasants, and priests, which are represented by helmet, rice paddy, and Buddha figures scattered about the board, which features the islands of Japan. The competition is waged through the use of hexagonal tiles, each of which help curry favor of one of the three factions &mdash; or all three at once! Players can make lightning-quick strikes with horseback ronin and ships or approach their conquests more methodically. As each figure (helmets, rice paddies, and Buddhas) is surrounded, it is awarded to the player who has gained the most favor with the corresponding group.&#10;&#10;Gameplay continues until all the symbols of one type have been removed from the board or four figures have been removed from play due to a tie for influence.&#10;&#10;At the end of the game, players compare captured symbols of each type, competing for majorities in each of the three types. Ties are not uncommon and are broken based on the number of other, &quot;non-majority&quot; symbols each player has collected.&#10;&#10;The game is part of what is sometimes called the Knizia tile-laying trilogy.&#10;&#10;',\n",
       " \"When you see the triangular box and the luxurious, large blocks of Tal der K&ouml;nige (German: &quot;Valley of the Kings&quot;), you can tell this game was designed to be beautiful as well as functional.  The object of the game is to build pyramids out of the different colored blocks.  A pyramid scores more points when it's made from a few colors, but it's much harder to consistently outbid the other players for the necessary blocks.  The game is over when the Pharoah's Pyramid in the center is completed, which is built using all the blocks that the players don't use during the course of the game.&#10;&#10;Final round 1990 Hippodice Spieleautorenwettbewerb.&#10;&#10;\",\n",
       " \"In Acquire, each player strategically invests in businesses, trying to retain a majority of stock.  As the businesses grow with tile placements, they also start merging, giving the majority stockholders of the acquired business sizable bonuses, which can then be used to reinvest into other chains.  All of the investors in the acquired company can then cash in their stocks for current value or trade them 2-for-1 for shares of the newer, larger business.  The game is a race to acquire the greatest wealth.&#10;&#10;History of Acquire: This Sid Sackson classic has taken many different forms over the years depending on the publisher, yet the rules and game play have stayed the same. The 1966 version of the 3M bookshelf edition included rules for a 2-player variant. The original version is part of the 3M Bookshelf Series.&#10;&#10;Many books and websites incorrectly list this as a 1962 publication as the 3M Company used previously copyrighted artwork when they released the game in 1964. 3M actually received the idea for the game of &quot;Vacations&quot; from Sid Sackson in May of 1963 and decided to take his idea and put it into artwork they had developed the year before for a game called &quot;ACQUIRE.&quot; 3M's original game idea for a game called ACQUIRE must not have been very good so they decided to take Sid's idea of Vacations and put it into their concept of ACQUIRE. They released some limited test market games in 8 Midwestern U.S. cities in December of 1963 with a box that had a 1963 copyright. These games had Sid's original rules. When 3M released the mass market games in 1964, they had taken liberties with some of Sid's original ideas and changed some rules and game play to match their production desires. They released them with outer boxes that were copyrighted 1962 and inner boxes with rules that were dated 1963.&#10;&#10;December 1963 - Test Market World Map Wood Tile Edition&#10;1964 - Dated 1962/63 wood tiles, chipboard with plastic overlay &amp; stocks with printed backs&#10;1965 - Dated 1962/63 plastic tiles, chipboard with plastic overlay &amp; stocks with printed backs (last edition made with printed backs until 1999)&#10;1966 - Dated 1962/66 plastic tiles, chipboard with plastic overlay &amp; non-wax coated stocks (Only edition with these stocks)&#10;1968 - Dated 1968/66 plastic tiles, clear plastic board with paper underlay (Both 1966 inner box games have a lot of mixed parts)&#10;1971 - Dated 1968/71 plastic tiles, yellow hard plastic board&#10;1975 - 3M sells rights for game of ACQUIRE to the Avalon Hill Company&#10;1976 - Dated 1976 plastic tiles, yellow hard plastic board, redesigned money, no inner box (This edition was also produced in 1977, 79, 81, 82,       &amp; 86)&#10;1989 - Dated 1976 Gray box edition with new box artwork same contents as regular 1976 editions (This edition was also produced in 1992)&#10;1995 - Dated 1995 Large box cardboard edition with chipboard board and tiles, Special Powers Variant Tiles inspired by German editions&#10;1997 - Avalon Hill sells the rights to the game of ACQUIRE to Hasbro&#10;1999 - Dated 1999 Large box with large plastic board and tiles, 3D company buildings, redesigned stocks &amp; money, large info cards&#10;2006 - Hasbro assigns rights for the game of ACQUIRE to their subsidiary, Wizards of the Coast&#10;2006 - Lloyd's Rules of ACQUIRE are made public, two major rule changes that help to bring the balance of the game of ACQUIRE back to the  intentions of Sid Sackson's original ideas &#10;2008 - Dated 2008 cardboard edition with chipboard board &amp; tiles, redesigned stocks &amp; money&#10;2016 - Dated 2016 The current affordable mass-market edition. It looks at first sight to be similar to previous modern editions, but has been criticised for the use of inferior design choices such as hard-to-read grey-on-grey embossed slots and the unusual tile fonts. It contains modified rules and a slightly smaller playing grid. Although these changes have been criticised for not ultimately improving upon Sackson's original design, they are generally regarded as not being too damaging to it.&#10;&#10;\"]"
      ]
     },
     "execution_count": 4,
     "metadata": {},
     "output_type": "execute_result"
    }
   ],
   "source": [
    "descriptions = list(df[\"description\"])\n",
    "descriptions[0:5]"
   ]
  },
  {
   "cell_type": "code",
   "execution_count": 5,
   "metadata": {},
   "outputs": [
    {
     "data": {
      "text/plain": [
       "(6756630, 2.702652)"
      ]
     },
     "execution_count": 5,
     "metadata": {},
     "output_type": "execute_result"
    }
   ],
   "source": [
    "def num_tokens_from_string(string: str, encoding_name: str) -> int:\n",
    "    \"\"\"Returns the number of tokens in a text string.\"\"\"\n",
    "    encoding = tiktoken.get_encoding(encoding_name)\n",
    "    num_tokens = len(encoding.encode(string))\n",
    "    return num_tokens\n",
    "\n",
    "sum = 0\n",
    "for description in descriptions:\n",
    "    sum += num_tokens_from_string(description, \"cl100k_base\")\n",
    "    \n",
    "sum, sum / 1000 * 0.0004"
   ]
  },
  {
   "attachments": {},
   "cell_type": "markdown",
   "metadata": {},
   "source": [
    "### Try the free alternative - instructor-xl"
   ]
  },
  {
   "cell_type": "code",
   "execution_count": 31,
   "metadata": {},
   "outputs": [
    {
     "name": "stdout",
     "output_type": "stream",
     "text": [
      "load INSTRUCTOR_Transformer\n",
      "max_seq_length  512\n"
     ]
    }
   ],
   "source": [
    "model = INSTRUCTOR('hkunlp/instructor-xl')\n",
    "embeddings = []\n",
    "instruction = \"Represent the Game description:\""
   ]
  },
  {
   "cell_type": "code",
   "execution_count": 32,
   "metadata": {},
   "outputs": [
    {
     "name": "stderr",
     "output_type": "stream",
     "text": [
      "100%|██████████| 24486/24486 [1:19:36<00:00,  5.13it/s]\n"
     ]
    }
   ],
   "source": [
    "for description in tqdm(descriptions):\n",
    "    embedding = model.encode([[instruction, description]])\n",
    "    embeddings.append(embedding)"
   ]
  },
  {
   "cell_type": "code",
   "execution_count": 38,
   "metadata": {},
   "outputs": [],
   "source": [
    "embs= np.squeeze(np.array(embeddings))"
   ]
  },
  {
   "cell_type": "code",
   "execution_count": 42,
   "metadata": {},
   "outputs": [],
   "source": [
    "#np.savetxt(\"bggrecommender/data/embeddings.gz\", embs)\n",
    "np.savez_compressed(\"bggrecommender/data/embeddings.npz\", embeddings = embs)"
   ]
  }
 ],
 "metadata": {
  "kernelspec": {
   "display_name": "bggrecommender",
   "language": "python",
   "name": "python3"
  },
  "language_info": {
   "codemirror_mode": {
    "name": "ipython",
    "version": 3
   },
   "file_extension": ".py",
   "mimetype": "text/x-python",
   "name": "python",
   "nbconvert_exporter": "python",
   "pygments_lexer": "ipython3",
   "version": "3.10.10"
  },
  "orig_nbformat": 4
 },
 "nbformat": 4,
 "nbformat_minor": 2
}
