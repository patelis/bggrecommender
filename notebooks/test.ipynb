{
 "cells": [
  {
   "cell_type": "code",
   "execution_count": 1,
   "metadata": {},
   "outputs": [],
   "source": [
    "import polars as pl\n",
    "import numpy as np\n",
    "from pathlib import Path"
   ]
  },
  {
   "cell_type": "code",
   "execution_count": 3,
   "metadata": {},
   "outputs": [
    {
     "data": {
      "text/plain": [
       "PosixPath('/home/kpatelis/projects/bggrecommender')"
      ]
     },
     "execution_count": 3,
     "metadata": {},
     "output_type": "execute_result"
    }
   ],
   "source": [
    "Path().resolve()"
   ]
  },
  {
   "cell_type": "code",
   "execution_count": 54,
   "metadata": {},
   "outputs": [],
   "source": [
    "check=pl.read_csv(\"bggrecommender/shiny_app/data/bgg_gamelist.csv\").filter(pl.col(\"id\") != 170984)\n",
    "embeddings = np.load(\"bggrecommender/data/embeddings.npz\")[\"embeddings\"]"
   ]
  },
  {
   "cell_type": "code",
   "execution_count": 55,
   "metadata": {},
   "outputs": [],
   "source": [
    "names = check.select(\"name\").to_series().to_list()\n",
    "names_arr = check.select(\"name\").to_series().to_numpy()\n",
    "ids_arr = check.select(\"id\").to_series().to_numpy()"
   ]
  },
  {
   "cell_type": "code",
   "execution_count": 31,
   "metadata": {},
   "outputs": [
    {
     "data": {
      "text/html": [
       "<div><style>\n",
       ".dataframe > thead > tr > th,\n",
       ".dataframe > tbody > tr > td {\n",
       "  text-align: right;\n",
       "}\n",
       "</style>\n",
       "<small>shape: (1, 3)</small><table border=\"1\" class=\"dataframe\"><thead><tr><th>id</th><th>name</th><th>rank</th></tr><tr><td>i64</td><td>str</td><td>i64</td></tr></thead><tbody><tr><td>169786</td><td>&quot;Scythe&quot;</td><td>16</td></tr></tbody></table></div>"
      ],
      "text/plain": [
       "shape: (1, 3)\n",
       "┌────────┬────────┬──────┐\n",
       "│ id     ┆ name   ┆ rank │\n",
       "│ ---    ┆ ---    ┆ ---  │\n",
       "│ i64    ┆ str    ┆ i64  │\n",
       "╞════════╪════════╪══════╡\n",
       "│ 169786 ┆ Scythe ┆ 16   │\n",
       "└────────┴────────┴──────┘"
      ]
     },
     "execution_count": 31,
     "metadata": {},
     "output_type": "execute_result"
    }
   ],
   "source": [
    "check.filter(pl.col(\"name\").is_in([\"Scythe\"]))"
   ]
  },
  {
   "cell_type": "code",
   "execution_count": 56,
   "metadata": {},
   "outputs": [
    {
     "data": {
      "text/plain": [
       "array([[ 1.22388499e-02, -8.63511860e-03, -4.93509276e-03,\n",
       "        -6.76752403e-02, -4.75604320e-03, -5.40627912e-03,\n",
       "        -3.16062979e-02,  4.44771610e-02, -4.03401740e-02,\n",
       "        -1.23727974e-02,  7.71993697e-02,  6.34546652e-02,\n",
       "        -7.11620227e-02, -7.67570287e-02, -2.62582465e-03,\n",
       "         3.01657189e-02,  3.32320929e-02, -3.27118374e-02,\n",
       "         2.16350053e-02,  1.65424850e-02,  2.75094081e-02,\n",
       "         3.79665159e-02, -8.30526184e-03, -1.02965767e-02,\n",
       "        -1.35255959e-02, -6.03980459e-02,  2.55786460e-02,\n",
       "         3.34043130e-02, -3.60192321e-02,  3.31228226e-02,\n",
       "         2.71276776e-02,  6.52049063e-03,  3.88144851e-02,\n",
       "        -1.37062063e-02,  6.02223054e-02, -1.28230965e-02,\n",
       "        -1.16595058e-02, -2.12905817e-02,  2.51783617e-02,\n",
       "        -1.61130838e-02, -2.50524078e-02,  6.13216311e-02,\n",
       "         4.90262583e-02, -2.93878070e-03,  4.10359837e-02,\n",
       "         7.98441656e-03,  7.33894035e-02, -5.69206066e-02,\n",
       "         2.86934394e-02, -1.24059180e-02, -2.80375015e-02,\n",
       "        -2.07568165e-02, -8.35174881e-03,  1.70768406e-02,\n",
       "         9.71115474e-03,  4.52305714e-04,  2.02220511e-02,\n",
       "        -3.38954404e-02, -2.89772749e-02,  2.98885647e-02,\n",
       "         2.43771728e-02,  4.23434973e-02, -2.64610350e-02,\n",
       "        -2.02116631e-02,  4.86884965e-03,  2.62321867e-02,\n",
       "         1.61772333e-02,  3.28747369e-02, -1.02120163e-02,\n",
       "         4.58122380e-02, -2.51738466e-02,  5.59088811e-02,\n",
       "        -3.76062766e-02,  3.26217823e-02, -4.40545343e-02,\n",
       "         4.76365164e-02,  1.40666999e-02,  6.21813349e-02,\n",
       "         1.04302103e-02, -2.22471245e-02, -7.88612217e-02,\n",
       "        -2.81293355e-02, -5.79765216e-02,  3.96286882e-02,\n",
       "        -1.84625778e-02, -1.61965494e-03, -4.22894061e-02,\n",
       "         1.24397716e-02,  4.86583561e-02,  8.13743100e-02,\n",
       "        -2.22673435e-02, -3.76034565e-02,  3.74937733e-03,\n",
       "        -1.74594037e-02, -1.76420975e-02, -1.74231571e-03,\n",
       "        -4.41222545e-03, -1.28463646e-02, -2.77796667e-02,\n",
       "        -2.09083036e-02, -1.30526640e-03,  6.41640872e-02,\n",
       "        -2.10352391e-02, -3.41356248e-02, -7.32614705e-03,\n",
       "        -5.83399050e-02,  7.47030089e-03,  3.55652347e-02,\n",
       "        -7.82449171e-03,  2.35961080e-02,  5.60347959e-02,\n",
       "         1.06657036e-01,  1.76923610e-02, -3.07262894e-02,\n",
       "         4.67655212e-02, -2.94594057e-02,  6.05645683e-03,\n",
       "         2.32983399e-02, -1.31881442e-02,  9.23813507e-03,\n",
       "         3.00087277e-02,  5.00333384e-02, -3.91305937e-03,\n",
       "         1.51776494e-02, -3.53939272e-02, -2.63636746e-02,\n",
       "         5.28665334e-02, -3.95965530e-03, -1.85796302e-02,\n",
       "        -3.16458382e-02,  5.34185693e-02,  4.81146295e-03,\n",
       "         3.18629630e-02,  8.22492596e-03,  7.25846365e-02,\n",
       "        -4.83139344e-02,  4.28465456e-02, -8.25973526e-02,\n",
       "        -4.16223751e-03, -7.77443796e-02,  2.93017458e-02,\n",
       "        -2.35458855e-02, -2.44726408e-02, -1.91203728e-02,\n",
       "        -3.14756595e-02, -6.75527751e-03, -1.10277869e-02,\n",
       "         3.29683274e-02,  1.28791537e-02,  2.98937950e-02,\n",
       "        -6.26754090e-02, -4.63181548e-03, -1.45933637e-02,\n",
       "         3.53779085e-02, -2.17864662e-03,  7.74000911e-03,\n",
       "        -3.17044966e-02, -2.51367013e-03,  1.49489800e-02,\n",
       "        -4.12031338e-02,  3.24219689e-02, -2.35663243e-02,\n",
       "        -8.66135880e-02,  6.22544624e-02, -9.44843609e-03,\n",
       "         7.69615080e-03, -8.26137979e-03,  1.34400548e-02,\n",
       "         4.57067508e-03, -5.14962114e-02,  4.71244380e-02,\n",
       "        -5.31569123e-02, -1.48211950e-02,  9.22420155e-03,\n",
       "         3.63380797e-02, -4.69069853e-02, -1.92187112e-02,\n",
       "         2.88445242e-02,  6.33406490e-02,  6.26040697e-02,\n",
       "        -3.76243554e-02,  1.85068920e-02, -1.40994703e-02,\n",
       "         1.77904479e-02, -1.27709145e-02, -8.74634180e-03,\n",
       "         4.28713812e-03, -4.56256196e-02,  3.87844443e-02,\n",
       "         5.71314692e-02,  5.87945916e-02, -8.32720995e-02,\n",
       "        -1.07979728e-02,  4.95593101e-02,  4.85566407e-02,\n",
       "         2.25376541e-04,  3.08209546e-02,  2.75994018e-02,\n",
       "         2.41936482e-02,  1.05475364e-02,  1.40924770e-02,\n",
       "         1.11936023e-02,  2.17215382e-02,  4.51801531e-02,\n",
       "        -1.58841275e-02,  2.59618908e-02,  1.88055763e-03,\n",
       "         5.13721928e-02,  4.53304239e-02,  3.31161986e-03,\n",
       "        -1.96035467e-02,  6.77974429e-03, -4.13380068e-04,\n",
       "        -9.46402084e-03,  4.17545065e-03,  6.45326003e-02,\n",
       "         5.81955165e-02, -3.30434181e-02, -1.17256716e-02,\n",
       "         5.43086268e-02, -2.42993943e-02,  4.25909907e-02,\n",
       "         4.28780355e-02,  2.41486263e-02,  4.52779941e-02,\n",
       "        -2.52302736e-02, -2.57599279e-02,  3.72454822e-02,\n",
       "         2.55925972e-02, -2.16998495e-02,  9.15176887e-03,\n",
       "        -4.06658538e-02,  9.52081829e-02,  3.60736847e-02,\n",
       "         4.25073644e-03, -7.64155611e-02,  1.03655737e-02,\n",
       "        -8.73455182e-02, -4.03343178e-02, -7.50557855e-02,\n",
       "         4.31535505e-02, -3.90082262e-02, -3.31193022e-02,\n",
       "        -5.90930097e-02,  9.65265092e-03,  2.59937085e-02,\n",
       "        -3.01901419e-02,  2.47396007e-02, -1.13895703e-02,\n",
       "        -6.93619922e-02,  3.25444411e-03, -4.85968105e-02,\n",
       "         1.87192857e-02,  8.42019916e-03, -2.70829014e-02,\n",
       "         3.39374617e-02, -3.77929136e-02, -2.15353817e-02,\n",
       "        -3.18803266e-02,  3.06711067e-02, -7.91393872e-03,\n",
       "        -6.35734648e-02, -3.74921933e-02, -4.78869155e-02,\n",
       "         7.16693234e-03, -2.12322436e-02,  6.38303980e-02,\n",
       "        -2.26521920e-02,  4.78159040e-02,  1.32349683e-02,\n",
       "        -5.04406095e-02,  4.37500365e-02,  5.77947125e-02,\n",
       "        -5.14668738e-03, -1.26255769e-02,  3.16224322e-02,\n",
       "        -2.26290897e-02, -3.14756297e-02, -3.62617485e-02,\n",
       "         2.94544362e-02, -7.59363249e-02, -7.09120259e-02,\n",
       "        -1.05875544e-02,  8.03797320e-03, -9.27989557e-03,\n",
       "        -1.07577387e-02,  1.48903830e-02,  1.58436708e-02,\n",
       "         2.85064783e-02, -9.03966352e-02, -2.56654415e-02,\n",
       "         2.13220362e-02, -3.88477966e-02, -6.78486517e-03,\n",
       "        -6.87852725e-02,  4.76027951e-02,  1.93005148e-02,\n",
       "        -2.41277218e-02,  1.92869343e-02,  2.55844723e-02,\n",
       "        -2.03568097e-02,  2.53974237e-02,  4.29475168e-03,\n",
       "        -3.98250856e-02, -5.44705288e-03, -3.29257138e-02,\n",
       "        -5.89556023e-02, -6.28422014e-03, -1.68822007e-03,\n",
       "        -2.18050200e-02,  2.90524960e-02,  2.98342686e-02,\n",
       "         9.79716983e-03, -2.13861652e-02,  3.99227720e-03,\n",
       "        -1.74382627e-02,  4.26383950e-02,  2.77045947e-02,\n",
       "         2.01203786e-02, -3.60515155e-02,  4.02436592e-02,\n",
       "        -2.45238859e-02,  5.04314825e-02, -3.71133387e-02,\n",
       "         1.77872386e-02,  2.11272556e-02, -4.91869822e-03,\n",
       "         2.30300147e-02,  3.49867940e-02, -5.84417470e-02,\n",
       "         2.75992397e-02,  1.43246436e-02, -2.76465714e-02,\n",
       "         3.38461846e-02, -2.58051250e-02,  7.09539130e-02,\n",
       "        -6.19099010e-03, -2.71493774e-02,  4.13997509e-02,\n",
       "        -1.35442186e-02, -2.38216501e-02, -1.39569410e-03,\n",
       "         8.84764269e-03, -1.27025116e-02, -5.22748828e-02,\n",
       "        -3.32640707e-02,  3.15286256e-02,  4.26283479e-02,\n",
       "        -4.72557694e-02, -6.63998425e-02, -4.60626464e-03,\n",
       "         8.33764765e-03,  5.72326407e-02,  4.92886938e-05,\n",
       "         2.83284523e-02,  1.33686652e-02,  6.18032031e-02,\n",
       "        -2.21934132e-02,  9.27159749e-03,  7.51764849e-02,\n",
       "         3.02928165e-02,  1.12220738e-03, -1.66990922e-03,\n",
       "        -2.40065828e-02, -3.30800489e-02, -9.99351870e-03,\n",
       "        -8.50762799e-02, -6.07079640e-02,  3.54097895e-02,\n",
       "         6.18959777e-02,  2.77937278e-02,  1.03727756e-02,\n",
       "         2.13908758e-02,  3.85494232e-02, -4.60277013e-02,\n",
       "         5.65835424e-02, -4.74026203e-02, -5.11789843e-02,\n",
       "        -3.33349556e-02, -5.53665403e-03,  4.24610786e-02,\n",
       "         1.21594770e-02,  4.61537391e-03,  1.33007877e-02,\n",
       "         6.97305799e-02,  1.69176981e-02,  3.18392366e-02,\n",
       "        -3.76776159e-02,  6.81259623e-03,  4.75998260e-02,\n",
       "         3.90643906e-03, -4.10643592e-03,  2.18860880e-02,\n",
       "        -7.57166417e-03, -3.38357389e-02, -4.72359695e-02,\n",
       "         8.45406111e-03, -2.31421981e-02, -7.40857646e-02,\n",
       "         1.88340377e-02,  3.44441980e-02, -2.42717378e-02,\n",
       "         2.69485544e-02,  4.17727754e-02, -2.09728498e-02,\n",
       "         1.91937143e-03, -3.35405059e-02, -1.60815869e-03,\n",
       "         1.48665067e-02,  4.17401418e-02,  2.83273309e-03,\n",
       "        -6.55363947e-02, -2.50053816e-02,  3.74343358e-02,\n",
       "         5.50899468e-02,  1.68782193e-02,  4.44928883e-03,\n",
       "         1.98615678e-02,  5.14835268e-02, -2.17317347e-03,\n",
       "        -4.22453769e-02, -1.55527517e-02, -1.35668777e-02,\n",
       "         2.71196105e-02, -3.92461084e-02, -3.58185405e-03,\n",
       "         2.51126792e-02, -1.33439563e-02, -1.00571714e-01,\n",
       "         1.57896299e-02,  2.29248833e-02,  5.33023104e-02,\n",
       "         1.10462103e-02,  1.03124389e-02, -1.23031503e-02,\n",
       "         6.93899244e-02, -7.48085603e-02,  6.10164963e-02,\n",
       "        -5.84631078e-02,  4.72620130e-02, -2.95347851e-02,\n",
       "        -2.04200801e-02, -4.66577534e-04,  5.89527749e-02,\n",
       "         4.87032458e-02,  2.65978817e-02, -4.61795665e-02,\n",
       "        -3.55715444e-03,  3.08157764e-02,  1.71245821e-02,\n",
       "         4.27531684e-03,  2.58102473e-02, -1.14560418e-03,\n",
       "         4.25668173e-02,  2.87395548e-02,  1.58074144e-02,\n",
       "         1.15950853e-02, -3.80027108e-02, -3.04730721e-02,\n",
       "        -8.51050299e-03, -3.23276110e-02,  2.86188684e-02,\n",
       "        -5.32100163e-02, -1.34438463e-03, -1.96718462e-02,\n",
       "         2.01912690e-02, -1.88353434e-02,  6.34696558e-02,\n",
       "         3.10925003e-02,  6.02210220e-03,  4.52251453e-03,\n",
       "         4.57389466e-02, -4.22976278e-02, -1.98251940e-02,\n",
       "        -5.80133386e-02, -2.70974971e-02, -2.68507581e-02,\n",
       "        -3.31886932e-02,  1.89337158e-03, -5.92018925e-02,\n",
       "         7.39148185e-02,  4.59777713e-02, -1.74305085e-02,\n",
       "        -1.54753290e-02, -1.36824008e-02,  9.73224342e-02,\n",
       "        -2.77787745e-02,  3.99638079e-02, -1.22062117e-02,\n",
       "        -6.40033511e-03,  2.32765041e-02,  1.50565822e-02,\n",
       "        -9.04417690e-03, -1.63615774e-02,  2.21565608e-02,\n",
       "        -1.09379115e-02, -2.34252159e-02, -9.60343257e-02,\n",
       "         9.59961489e-03, -4.15551700e-02, -2.67256219e-02,\n",
       "        -2.64788102e-02, -2.45638173e-02, -8.05372372e-03,\n",
       "        -2.97013521e-02,  4.56815884e-02,  1.46318926e-02,\n",
       "         1.49473986e-02, -4.03228309e-03,  3.15012001e-02,\n",
       "         1.22255310e-02, -1.74477007e-02, -2.02200394e-02,\n",
       "        -7.25496188e-03, -2.35074330e-02, -4.58612591e-02,\n",
       "         3.01637053e-02,  8.44187010e-03,  2.85523199e-03,\n",
       "        -1.62840653e-02, -2.54433192e-02, -2.17554383e-02,\n",
       "         5.28224260e-02,  5.71785830e-02, -1.76483486e-02,\n",
       "        -4.48150449e-02,  8.66479576e-02,  2.22789403e-03,\n",
       "        -4.26717550e-02,  4.59757522e-02,  1.24078728e-02,\n",
       "        -1.20059168e-02,  5.93466349e-02, -2.52944175e-02,\n",
       "         1.44772502e-02, -6.74381852e-03, -2.01342721e-02,\n",
       "         9.44913365e-03, -2.24705823e-02, -4.55226116e-02,\n",
       "        -6.14532717e-02,  3.61002795e-02, -1.34816291e-02,\n",
       "         9.67438519e-03, -3.84998880e-02,  7.60467490e-03,\n",
       "        -5.25377365e-03, -8.08769744e-03,  6.38640346e-03,\n",
       "        -6.03495631e-03,  3.92194726e-02,  2.55069099e-02,\n",
       "        -6.09673932e-02,  4.56721969e-02, -3.76377627e-03,\n",
       "         3.22749428e-02,  5.16886897e-02,  2.76445691e-02,\n",
       "         5.25580086e-02, -2.15458800e-03, -5.36864698e-02,\n",
       "        -3.35505493e-02, -6.50642440e-02,  6.80514202e-02,\n",
       "        -1.02384716e-01, -6.28229007e-02,  6.60854727e-02,\n",
       "        -2.66086850e-02, -2.73558474e-03,  2.70524397e-02,\n",
       "         1.50630036e-02,  1.11246668e-02,  5.89387454e-02,\n",
       "        -2.87765097e-02,  7.70817250e-02,  1.57607347e-02,\n",
       "         3.87718864e-02,  3.93499359e-02,  5.23055494e-02,\n",
       "        -3.01208105e-02,  1.41258473e-02, -1.74614061e-02,\n",
       "        -9.11621284e-03, -2.91269794e-02, -1.25505612e-03,\n",
       "        -4.60983366e-02, -2.29098536e-02,  3.76672335e-02,\n",
       "         2.84082862e-03,  1.02073252e-02, -5.62732667e-02,\n",
       "         1.53246326e-02, -2.57062297e-02,  2.71719415e-02,\n",
       "        -1.25477035e-02,  1.60308369e-02,  6.26149923e-02,\n",
       "        -3.76718529e-02, -2.81103887e-02, -6.88424613e-03,\n",
       "        -1.45861302e-02,  2.88115386e-02, -3.73554230e-02,\n",
       "         2.44482923e-02,  1.66603178e-02,  5.25857359e-02,\n",
       "         1.78316124e-02, -1.04671372e-02,  1.40054654e-02,\n",
       "        -1.53617542e-02,  3.33628021e-02,  1.96329877e-02,\n",
       "         7.95256521e-04,  5.69853932e-02, -8.91295541e-03,\n",
       "         1.70305781e-02, -4.96200845e-02, -1.14274025e-02,\n",
       "         8.66686925e-03,  3.53979357e-02,  1.44477943e-02,\n",
       "         4.84252274e-02,  5.02244383e-02,  2.17868164e-02,\n",
       "        -2.06726845e-02,  4.03022170e-02, -3.01396549e-02,\n",
       "        -2.97435783e-02, -4.38212529e-02, -5.43883517e-02,\n",
       "        -3.40627916e-02, -3.08185890e-02,  2.39536520e-02,\n",
       "        -2.19858382e-02, -5.11459820e-02,  3.59274819e-03,\n",
       "        -5.25378808e-02,  2.48973295e-02,  4.52872515e-02,\n",
       "         8.43234919e-03, -6.18881267e-03, -1.51166813e-02,\n",
       "        -7.52735734e-02,  5.31282276e-02, -1.20767746e-02,\n",
       "        -4.76303771e-02, -4.68767015e-03, -4.56857570e-02,\n",
       "        -4.44553308e-02,  2.40903720e-02, -4.67767566e-02,\n",
       "        -3.15666609e-02, -6.49284795e-02, -1.47028537e-02,\n",
       "        -1.16492081e-02, -1.53162125e-02,  1.87608916e-02,\n",
       "        -1.80949904e-02, -1.70154329e-02, -4.70387675e-02,\n",
       "        -7.48392344e-02,  3.32011208e-02, -4.35956344e-02,\n",
       "         1.25822816e-02, -8.29375256e-03, -3.11096036e-03,\n",
       "        -7.21450299e-02,  1.52387461e-02,  1.84277650e-02,\n",
       "         5.29842079e-02, -5.21790795e-02, -4.43636104e-02,\n",
       "         2.18682401e-02,  3.37988697e-02,  2.08963770e-02,\n",
       "        -3.03143058e-02, -3.25577930e-02, -2.11399999e-02,\n",
       "        -1.26169492e-02, -9.48281307e-03,  1.17136715e-02,\n",
       "        -6.37439191e-02,  4.24274011e-03,  2.15267874e-02,\n",
       "        -3.68518718e-02, -1.35945035e-02, -2.13152543e-02,\n",
       "         1.38644697e-02, -5.98710999e-02,  1.42976474e-02,\n",
       "         2.86118849e-03, -9.33109690e-03,  3.22235227e-02,\n",
       "         1.59119640e-03,  2.78597809e-02, -4.21251059e-02,\n",
       "         5.99770658e-02,  3.60429920e-02, -6.38042539e-02,\n",
       "        -5.22509851e-02, -1.30553143e-02,  3.28875557e-02,\n",
       "         2.48386469e-02, -1.68591831e-02,  5.36595881e-02,\n",
       "        -5.05601615e-02, -1.15827983e-02, -3.64098735e-02,\n",
       "         5.03792763e-02,  1.08961063e-02, -4.38708775e-02,\n",
       "        -4.50343601e-02, -7.00336136e-03, -7.64629105e-03,\n",
       "         1.33911874e-02,  2.85575930e-02, -2.50666421e-02,\n",
       "        -3.64264362e-02, -3.02832332e-02,  3.35014500e-02,\n",
       "        -4.95701060e-02,  7.62651302e-03, -1.00788698e-02,\n",
       "         6.40082732e-03, -1.41862519e-02, -3.80777977e-02,\n",
       "        -1.48115847e-02, -5.42689264e-02, -1.46605051e-03,\n",
       "        -1.99490599e-02,  3.96275856e-02, -1.19753489e-02,\n",
       "         1.01972735e-02,  6.68354332e-03, -8.18463915e-04,\n",
       "        -8.42107111e-04,  2.38375347e-02,  4.84932587e-02,\n",
       "        -3.27250995e-02,  7.53522813e-02,  2.03641374e-02,\n",
       "         2.00904142e-02,  3.95187736e-02,  1.07785519e-02,\n",
       "         7.31993392e-02, -4.05249000e-02, -2.37966720e-02,\n",
       "         6.02644831e-02, -4.65235040e-02, -4.31706272e-02,\n",
       "        -5.60491569e-02, -2.18326785e-03, -3.92617984e-03,\n",
       "         1.68251246e-02,  1.32718924e-02,  7.85941072e-03,\n",
       "         1.23014522e-03,  1.88604277e-02,  5.18000908e-02,\n",
       "         1.20854648e-02,  9.06028599e-03,  3.46529782e-02,\n",
       "         1.48746790e-02,  1.22457165e-02, -1.69031378e-02,\n",
       "        -3.25051099e-02, -1.51577489e-02,  8.48682150e-02]])"
      ]
     },
     "execution_count": 56,
     "metadata": {},
     "output_type": "execute_result"
    }
   ],
   "source": [
    "embeddings[names_arr == \"CATAN\"]"
   ]
  },
  {
   "cell_type": "code",
   "execution_count": 40,
   "metadata": {},
   "outputs": [
    {
     "data": {
      "text/plain": [
       "array(['Brass: Birmingham', 'Pandemic Legacy: Season 1', 'Gloomhaven',\n",
       "       ..., 'Candy Land', 'Chutes and Ladders', 'Tic-Tac-Toe'],\n",
       "      dtype=object)"
      ]
     },
     "execution_count": 40,
     "metadata": {},
     "output_type": "execute_result"
    }
   ],
   "source": [
    "check.select(\"name\").to_series().to_numpy()"
   ]
  },
  {
   "cell_type": "code",
   "execution_count": 2,
   "metadata": {},
   "outputs": [
    {
     "data": {
      "text/plain": [
       "'0.4.0'"
      ]
     },
     "execution_count": 2,
     "metadata": {},
     "output_type": "execute_result"
    }
   ],
   "source": [
    "import shiny\n",
    "shiny.__version__"
   ]
  },
  {
   "cell_type": "code",
   "execution_count": 88,
   "metadata": {},
   "outputs": [],
   "source": [
    "import requests\n",
    "import pandas as pd\n",
    "\n",
    "def retrieve_game_info(game_ids):\n",
    "\n",
    "    id_list = ','.join(str(game_id) for game_id in game_ids)\n",
    "    url = f'https://boardgamegeek.com/xmlapi2/thing?id={id_list}&stats=1'\n",
    "    response = requests.get(url)\n",
    "    return response.content, response.text\n",
    "\n",
    "game_ids = [13, 1]  # Replace with your list of game IDs\n",
    "\n",
    "xml_data, xml_text = retrieve_game_info(game_ids)\n",
    "#game_data = parse_game_info(xml_data)\n",
    "\n",
    "#df = pd.DataFrame(game_data)\n",
    "#print(df)"
   ]
  },
  {
   "cell_type": "code",
   "execution_count": 2,
   "metadata": {},
   "outputs": [],
   "source": [
    "import requests\n",
    "from lxml import etree\n",
    "\n",
    "def retrieve_game_info(game_ids):\n",
    "\n",
    "    id_list = ','.join(str(game_id) for game_id in game_ids)\n",
    "    url = f'https://boardgamegeek.com/xmlapi2/thing?id={id_list}&stats=1'\n",
    "    response = requests.get(url)\n",
    "    return response.content, response.text # Change when done debugging\n",
    "\n",
    "def parse_bgg_xml(xml_data):\n",
    "    \n",
    "    game_info = []\n",
    "    \n",
    "    root = etree.fromstring(xml_data)\n",
    "\n",
    "    for item in root.xpath('//item'):\n",
    "        game_name = item.xpath('.//name[@type=\"primary\"]/@value')[0]\n",
    "        thumbnail = item.xpath('thumbnail/text()')[0]\n",
    "        image = item.xpath('image/text()')[0]\n",
    "        description = item.xpath('description/text()')[0]\n",
    "        year_published = item.xpath('.//yearpublished/@value')[0]\n",
    "        min_players = item.xpath('.//minplayers/@value')[0]\n",
    "        max_players = item.xpath('.//maxplayers/@value')[0]\n",
    "        playing_time = item.xpath('.//playingtime/@value')[0]\n",
    "        min_playtime = item.xpath('.//minplaytime/@value')[0]\n",
    "        max_playtime = item.xpath('.//maxplaytime/@value')[0]\n",
    "        min_age = item.xpath('.//minage/@value')[0]\n",
    "        average_rating = item.xpath('.//statistics/ratings/average/@value')[0]\n",
    "        bgg_rating = item.xpath('.//statistics/ratings/bayesaverage/@value')[0]\n",
    "        \n",
    "        game_info.append({\n",
    "            'game_name':game_name, \n",
    "            'thumbnail':thumbnail,\n",
    "            'image':image,\n",
    "            'description':description,\n",
    "            'year_published':year_published, \n",
    "            'min_players':min_players, \n",
    "            'max_players':max_players,\n",
    "            'playing_time':playing_time,\n",
    "            'min_playtime':min_playtime,\n",
    "            'max_playtime':max_playtime,\n",
    "            'min_age':min_age,\n",
    "            'average_rating':average_rating, \n",
    "            'bgg_rating':bgg_rating\n",
    "            })\n",
    "        \n",
    "    return game_info"
   ]
  },
  {
   "cell_type": "code",
   "execution_count": 6,
   "metadata": {},
   "outputs": [
    {
     "data": {
      "text/plain": [
       "\"(from the back of the box:)&#10;&#10;You are now back in time-12th through 17th century Japan, to be exact. Your objective: the exalted title of &quot;Shogun&quot;. As &quot;Shogun&quot;, you will have the right to enforce the emperor's will, and become the real ruler of Japan.&#10;&#10;Samurai allows you to take control of Japan. In medieval Japan, the central government of the emperor was dissolved. He become a powerless figurehead while various clans competed to take control of the country. &#10;These clans were similar to the noble houses of Europe; and their leaders the equivalent of medieval Dukes, Barons, Counts, and the like. &#10;Using formldable samurai warriors, the clans waged endless wars across the major islands of the Japanese archipelago.&#10;&#10;Concept of Play &#10;Each player controls a clan, with one or more lords. Each lord has a province representing his personal &quot;fief&quot; or home, and often has additional holdings of troops, titles, ships, castles, and more provinces.&#10;&#10;The game is played in 20 turns, each representing a pace of historical events running between a few months to a few years. In each turn, moves are conducted on a mapboard that portrays the three major islands of Japan.&#10;&#10;The playing pieces-360 in all-include Samurai Lords, clan control markers, holdings and title counters, troops, garrisons, and more; all explained in the easy&shy; to-follow prose of the 18-page rules folder.&#10;&#10;Many Games in One &#10;An excellent game for 2 to 8 players. Samurai is suitable for beginning and intermedlate play, with plenty of optional rules and strategic options for even the expert. And for the really hard-core power-politics fanatics, special rules create a nearly &quot;perpetual&quot; game representing tho true ebb and flow of Japanese feudal confilct. &#10;Samurai includes a variety of playing aids to make learning and playing the game truly an effortless task. The rules manual contains historical background and designer's notes that offer the player the full flavor and authenticity of what medieval conflict was all about in the age of the &quot;Shogun&quot; struggles.&#10;&#10;&#10;(BGG description:)&#10;&#10;Samurai is a game about warfare and politics in feudal Japan. The aim of the game is to gain the title &quot;Shogun&quot; by game end. To become Shogun, the player has to gain control of two out of four Imperial Articles scattered across the mapboard. These are: the Emperor, The Heir, The Imperial Regalia and Kyoto Castle.&#10;&#10;Playing pieces are the samurai lords of various houses. Each lord has a home province which provides him with troops. Additional troops may be added through offices, other provinces, castles, etc.&#10;&#10;\""
      ]
     },
     "execution_count": 6,
     "metadata": {},
     "output_type": "execute_result"
    }
   ],
   "source": [
    "game_ids = [63, 11320, 284616, 221, 266769]\n",
    "\n",
    "xml_data, xml_text = retrieve_game_info(game_ids)\n",
    "\n",
    "game_data = parse_bgg_xml(xml_data)\n",
    "\n",
    "game_data[0][\"description\"]"
   ]
  },
  {
   "cell_type": "code",
   "execution_count": 14,
   "metadata": {},
   "outputs": [],
   "source": [
    "test=game_data[0][\"description\"]"
   ]
  },
  {
   "cell_type": "code",
   "execution_count": 18,
   "metadata": {},
   "outputs": [],
   "source": [
    "test = str(test)"
   ]
  },
  {
   "cell_type": "code",
   "execution_count": 25,
   "metadata": {},
   "outputs": [
    {
     "data": {
      "text/plain": [
       "\"(from the back of the box:)&#10;&#10;You are now back in time-12th through 17th century Japan, to be exact. Your objective: the exalted title of &quot;Shogun&quot;. As &quot;Shogun&quot;, you will have the right to enforce the emperor's will, and become the real ruler of Japan.&#10;&#10;Samurai allows you to take control of Japan. In medieval Japan, the central government of the emperor was dissolved. He become a powerless figurehead while various clans competed to take control of the country. &#10;These clans were similar to the noble houses of Europe; and their leaders the equivalent of medieval Dukes, Barons, Counts, and the like. &#10;Using formldable samurai warriors, the clans waged endless wars across the major islands of the Japanese archipelago.&#10;&#10;Concept of Play &#10;Each player controls a clan, with one or more lords. Each lord has a province representing his personal &quot;fief&quot; or home, and often has additional holdings of troops, titles, ships, castles, and more provinces.&#10;&#10;The game is played in 20 turns, each representing a pace of historical events running between a few months to a few years. In each turn, moves are conducted on a mapboard that portrays the three major islands of Japan.&#10;&#10;The playing pieces-360 in all-include Samurai Lords, clan control markers, holdings and title counters, troops, garrisons, and more; all explained in the easy&shy; to-follow prose of the 18-page rules folder.&#10;&#10;Many Games in One &#10;An excellent game for 2 to 8 players. Samurai is suitable for beginning and intermedlate play, with plenty of optional rules and strategic options for even the expert. And for the really hard-core power-politics fanatics, special rules create a nearly &quot;perpetual&quot; game representing tho true ebb and flow of Japanese feudal confilct. &#10;Samurai includes a variety of playing aids to make learning and playing the game truly an effortless task. The rules manual contains historical background and designer's notes that offer the player the full flavor and authenticity of what medieval conflict was all about in the age of the &quot;Shogun&quot; struggles.&#10;&#10;&#10;(BGG description:)&#10;&#10;Samurai is a game about warfare and politics in feudal Japan. The aim of the game is to gain the title &quot;Shogun&quot; by game end. To become Shogun, the player has to gain control of two out of four Imperial Articles scattered across the mapboard. These are: the Emperor, The Heir, The Imperial Regalia and Kyoto Castle.&#10;&#10;Playing pieces are the samurai lords of various houses. Each lord has a home province which provides him with troops. Additional troops may be added through offices, other provinces, castles, etc.&#10;&#10;\""
      ]
     },
     "execution_count": 25,
     "metadata": {},
     "output_type": "execute_result"
    }
   ],
   "source": [
    "test.encode().decode(\"ascii\", \"ignore\")"
   ]
  },
  {
   "cell_type": "code",
   "execution_count": 36,
   "metadata": {},
   "outputs": [
    {
     "data": {
      "text/plain": [
       "\"(from the back of the box:)&#10;&#10;You are now back in time-12th through 17th century Japan, to be exact. Your objective: the exalted title of &quot;Shogun&quot;. As &quot;Shogun&quot;, you will have the right to enforce the emperor's will, and become the real ruler of Japan.&#10;&#10;Samurai allows you to take control of Japan. In medieval Japan, the central government of the emperor was dissolved. He become a powerless figurehead while various clans competed to take control of the country. &#10;These clans were similar to the noble houses of Europe; and their leaders the equivalent of medieval Dukes, Barons, Counts, and the like. &#10;Using formldable samurai warriors, the clans waged endless wars across the major islands of the Japanese archipelago.&#10;&#10;Concept of Play &#10;Each player controls a clan, with one or more lords. Each lord has a province representing his personal &quot;fief&quot; or home, and often has additional holdings of troops, titles, ships, castles, and more provinces.&#10;&#10;The game is played in 20 turns, each representing a pace of historical events running between a few months to a few years. In each turn, moves are conducted on a mapboard that portrays the three major islands of Japan.&#10;&#10;The playing pieces-360 in all-include Samurai Lords, clan control markers, holdings and title counters, troops, garrisons, and more; all explained in the easy&shy; to-follow prose of the 18-page rules folder.&#10;&#10;Many Games in One &#10;An excellent game for 2 to 8 players. Samurai is suitable for beginning and intermedlate play, with plenty of optional rules and strategic options for even the expert. And for the really hard-core power-politics fanatics, special rules create a nearly &quot;perpetual&quot; game representing tho true ebb and flow of Japanese feudal confilct. &#10;Samurai includes a variety of playing aids to make learning and playing the game truly an effortless task. The rules manual contains historical background and designer's notes that offer the player the full flavor and authenticity of what medieval conflict was all about in the age of the &quot;Shogun&quot; struggles.&#10;&#10;&#10;(BGG description:)&#10;&#10;Samurai is a game about warfare and politics in feudal Japan. The aim of the game is to gain the title &quot;Shogun&quot; by game end. To become Shogun, the player has to gain control of two out of four Imperial Articles scattered across the mapboard. These are: the Emperor, The Heir, The Imperial Regalia and Kyoto Castle.&#10;&#10;Playing pieces are the samurai lords of various houses. Each lord has a home province which provides him with troops. Additional troops may be added through offices, other provinces, castles, etc.&#10;&#10;\""
      ]
     },
     "execution_count": 36,
     "metadata": {},
     "output_type": "execute_result"
    }
   ],
   "source": [
    "test"
   ]
  },
  {
   "cell_type": "code",
   "execution_count": 39,
   "metadata": {},
   "outputs": [
    {
     "data": {
      "text/plain": [
       "'(from the back of the box:) You are now back in time-12th through 17th century Japan, to be exact. Your objective: the exalted title of \"Shogun\". As \"Shogun\", you will have the right to enforce the emperor\\'s will, and become the real ruler of Japan. Samurai allows you to take control of Japan. In medieval Japan, the central government of the emperor was dissolved. He become a powerless figurehead while various clans competed to take control of the country.  These clans were similar to the noble houses of Europe; and their leaders the equivalent of medieval Dukes, Barons, Counts, and the like.  Using formldable samurai warriors, the clans waged endless wars across the major islands of the Japanese archipelago. Concept of Play  Each player controls a clan, with one or more lords. Each lord has a province representing his personal \"fief\" or home, and often has additional holdings of troops, titles, ships, castles, and more provinces. The game is played in 20 turns, each representing a pace of historical events running between a few months to a few years. In each turn, moves are conducted on a mapboard that portrays the three major islands of Japan. The playing pieces-360 in all-include Samurai Lords, clan control markers, holdings and title counters, troops, garrisons, and more; all explained in the easy&shy; to-follow prose of the 18-page rules folder. Many Games in One  An excellent game for 2 to 8 players. Samurai is suitable for beginning and intermedlate play, with plenty of optional rules and strategic options for even the expert. And for the really hard-core power-politics fanatics, special rules create a nearly \"perpetual\" game representing tho true ebb and flow of Japanese feudal confilct.  Samurai includes a variety of playing aids to make learning and playing the game truly an effortless task. The rules manual contains historical background and designer\\'s notes that offer the player the full flavor and authenticity of what medieval conflict was all about in the age of the \"Shogun\" struggles. (BGG description:) Samurai is a game about warfare and politics in feudal Japan. The aim of the game is to gain the title \"Shogun\" by game end. To become Shogun, the player has to gain control of two out of four Imperial Articles scattered across the mapboard. These are: the Emperor, The Heir, The Imperial Regalia and Kyoto Castle. Playing pieces are the samurai lords of various houses. Each lord has a home province which provides him with troops. Additional troops may be added through offices, other provinces, castles, etc. '"
      ]
     },
     "execution_count": 39,
     "metadata": {},
     "output_type": "execute_result"
    }
   ],
   "source": [
    "import re\n",
    "\n",
    "test_clean = re.sub(r\"(&#10;)+\", \" \", test)\n",
    "test_clean = re.sub(r\"(&quot;)\", '\"', test_clean)\n",
    "test_clean = re.sub(r\"(&mdash;)\", '-', test_clean)\n",
    "test_clean = re.sub(r\"(&ordm;)\", ' degree', test_clean)\n",
    "test_clean = re.sub(r\"(&rdquo;)+\", \"\", test)\n",
    "\n",
    "test_clean"
   ]
  },
  {
   "cell_type": "code",
   "execution_count": 40,
   "metadata": {},
   "outputs": [],
   "source": [
    "#278, 6778, 27710, 146158, 24083\n",
    "\n",
    "game_ids = [278, 6778, 27710, 146158, 24083]\n",
    "\n",
    "xml_data, xml_text = retrieve_game_info(game_ids)\n",
    "\n",
    "game_data = parse_bgg_xml(xml_data)\n",
    "\n",
    "name, desc = game_data[0][\"game_name\"], game_data[0][\"description\"]"
   ]
  },
  {
   "cell_type": "code",
   "execution_count": 45,
   "metadata": {},
   "outputs": [
    {
     "data": {
      "text/plain": [
       "\"GAME_TOKEN bears only a slight resemblance to The Settlers of Catan, the original game in the Catan series.  There are six resources: wool, wood, bricks, grain, ore, and gold. Before beginning the game, the players receive six square cards showing the resources, with a different die number on each card. In addition, the players start the game with two village cards and a road card connecting them. There are card stacks of more roads and villages, as well as cities, to be purchased during the game. With each new village or city comes two new resource cards. Villages and cities give victory points.&#10;&#10;When the number die is rolled, instead of collecting more cards, the players rotate the corresponding card 90 degrees to indicate a gain of one more of that resource; i.e., the brick card shows a picture of one brick on one edge of the card, two bricks on the next clockwise edge, three bricks along the third edge, and zero bricks on the fourth edge. There is also an event die, with five possible outcomes:&#10;&#10;&#10;     a reward for the player with more knight points or more 'windmill' points (a picture of a windmill on some cards),&#10;     a bonus resource,&#10;     an attack if a player has too many resources, and&#10;     one of six special events - civil war, conflict, master builder, plague, productive year, or progress.     &#10;&#10;&#10;There are 62 expansion cards in six stacks in the center of the table. Before beginning the game, players choose one stack, go through it, and choose three cards to hold in their hands. Forty-two of the expansion cards require spending resources to be put into play, gaining civic improvements or knights. Every civic improvement serves some useful function or adds victory points or both. Twenty of the cards are actions benefiting one of the players or harming the other. After a player pays to put a card down or uses an action card, he blindly draws a replacement. Unwanted or unusable cards can be traded in future turns. Some of the cards have flags on them, indicating victory points.&#10;&#10;Whoever first has twelve victory points wins the game!&#10;&#10;The Anniversary edition of this game (Jubil&auml;umsausgabe, tin box edition) can be found under a separate game entry due to some differences in content: Die Siedler von Catan: Das Kartenspiel &#226;&#128;&#147; 10th Anniversary Special Edition Tin Box.&#10;&#10;Belongs to the Catan Series.&#10;&#10;\""
      ]
     },
     "execution_count": 45,
     "metadata": {},
     "output_type": "execute_result"
    }
   ],
   "source": [
    "desc_no_name = re.sub(name, \"GAME_TOKEN\", desc)\n",
    "\n",
    "\n",
    "\n",
    "\n",
    "desc_no_name"
   ]
  },
  {
   "cell_type": "code",
   "execution_count": 47,
   "metadata": {},
   "outputs": [],
   "source": [
    "import polars as pl\n",
    "\n",
    "games=pl.read_csv(\"bggrecommender/shiny_app/data/bgg_gamelist_all_details.csv\").filter(pl.col(\"id\") != 170984)\n",
    "names_list = games.select(\"name\").to_series().to_list()"
   ]
  },
  {
   "cell_type": "code",
   "execution_count": 75,
   "metadata": {},
   "outputs": [],
   "source": [
    "names_test = [re.split(\" \", name) for name in names_list]\n",
    "\n",
    "names_test2 = [word for sublist in names_test for word in sublist]\n",
    "\n",
    "words = pl.Series(name=\"word\", values=names_test2)"
   ]
  },
  {
   "cell_type": "code",
   "execution_count": 80,
   "metadata": {},
   "outputs": [
    {
     "data": {
      "text/html": [
       "<div><style>\n",
       ".dataframe > thead > tr > th,\n",
       ".dataframe > tbody > tr > td {\n",
       "  text-align: right;\n",
       "}\n",
       "</style>\n",
       "<small>shape: (1, 2)</small><table border=\"1\" class=\"dataframe\"><thead><tr><th>word</th><th>counts</th></tr><tr><td>str</td><td>u32</td></tr></thead><tbody><tr><td>&quot;Catan&quot;</td><td>18</td></tr></tbody></table></div>"
      ],
      "text/plain": [
       "shape: (1, 2)\n",
       "┌───────┬────────┐\n",
       "│ word  ┆ counts │\n",
       "│ ---   ┆ ---    │\n",
       "│ str   ┆ u32    │\n",
       "╞═══════╪════════╡\n",
       "│ Catan ┆ 18     │\n",
       "└───────┴────────┘"
      ]
     },
     "execution_count": 80,
     "metadata": {},
     "output_type": "execute_result"
    }
   ],
   "source": [
    "words.value_counts(sort=True).filter(pl.col(\"word\")==\"Catan\")"
   ]
  }
 ],
 "metadata": {
  "kernelspec": {
   "display_name": "bggrecommender",
   "language": "python",
   "name": "python3"
  },
  "language_info": {
   "codemirror_mode": {
    "name": "ipython",
    "version": 3
   },
   "file_extension": ".py",
   "mimetype": "text/x-python",
   "name": "python",
   "nbconvert_exporter": "python",
   "pygments_lexer": "ipython3",
   "version": "3.10.10"
  },
  "orig_nbformat": 4
 },
 "nbformat": 4,
 "nbformat_minor": 2
}
